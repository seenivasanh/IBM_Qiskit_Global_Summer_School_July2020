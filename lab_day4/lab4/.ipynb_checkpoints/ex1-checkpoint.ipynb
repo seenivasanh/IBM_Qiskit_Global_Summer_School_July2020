{
 "cells": [
  {
   "cell_type": "markdown",
   "metadata": {},
   "source": [
    "![image](resources/qgss-header.png)"
   ]
  },
  {
   "cell_type": "markdown",
   "metadata": {},
   "source": [
    "# Lab 4: Shor's Algorithm"
   ]
  },
  {
   "cell_type": "markdown",
   "metadata": {},
   "source": [
    "In this lab, you will implement a quantum program to factor the number 15. In order to do this, you will write `Qiskit` code for Shor's algorithm following the material presented in lecture 4.\n",
    "\n",
    "You might find the following chapters of the Qiskit Textbook useful:\n",
    "- **Shor's algorithm**: https://qiskit.org/textbook/ch-algorithms/shor.html\n",
    "- **Quantum phase estimation**: https://qiskit.org/textbook/ch-algorithms/quantum-phase-estimation.html\n",
    "- **Quantum Fourier transform**: https://qiskit.org/textbook/ch-algorithms/quantum-fourier-transform.html\n",
    "\n",
    "Remember, to run a cell in Jupyter notebooks, you press `Shift` + `Return/Enter` on your keyboard."
   ]
  },
  {
   "cell_type": "markdown",
   "metadata": {},
   "source": [
    "### Installing necessary packages"
   ]
  },
  {
   "cell_type": "markdown",
   "metadata": {},
   "source": [
    "Before we begin, you will need to install some prerequisites into your environment. Run the cell below to complete these installations. At the end, the cell outputs will be cleared."
   ]
  },
  {
   "cell_type": "code",
   "execution_count": 1,
   "metadata": {},
   "outputs": [],
   "source": [
    "!pip install -U -r grading_tools/requirements.txt\n",
    "\n",
    "from IPython.display import clear_output\n",
    "clear_output()"
   ]
  },
  {
   "cell_type": "markdown",
   "metadata": {},
   "source": [
    "# Review of Shor's Algorithm"
   ]
  },
  {
   "cell_type": "markdown",
   "metadata": {},
   "source": [
    "![image](resources/shor_circuit.png)"
   ]
  },
  {
   "cell_type": "markdown",
   "metadata": {},
   "source": [
    "You might recall from lecture 4 that Shor's algorithm can be used to factor numbers $N$ that are products of the form \n",
    "\n",
    "$$N = pq$$\n",
    "\n",
    "where $p$ and $q$ are prime numbers. This is done in four main steps, similar to the implementation of quantum phase estimation. In this case, we will use two registers of qubits. The first register will have $n$ qubits, and will contain the measurement qubits. The second register will have $m$ qubits, and will be the eigenstate for quantum phase estimation. \n",
    "\n",
    "1. First, we begin by initializing our qubits. We create a superposition of all $2^n$ computational basis states on the $n$ measurement qubits by applying a Hadamard ($H$) gate on each qubit starting off in the state $\\vert0\\rangle^{\\otimes n}$. We also initialize the $m$ target qubits in the state $\\vert1\\rangle$. Here, the exponent $\\otimes n$ means that we have a tensor product of the states of $n$ qubits.\n",
    "\n",
    "2. Second, we apply the unitary operator $U$ with various powers onto the target qubits by controlling it with each of the different measurement qubits. The unitary operator in this case implements modular exponentiation. The schematic above shows the ordering and respective powers.\n",
    "\n",
    "3. Third, we apply an inverse quantum Fourier transform on the $n$ measurement qubits.\n",
    "\n",
    "4. Finally, we measure the first $n$ qubits.\n",
    "\n",
    "After the measurement outcomes are determined, we will need to do additional classical post-processing in order to determine the factors or to decide to run the program again.\n",
    "\n",
    "\n",
    "# Graded Exercise 1: Implementing Shor's Algorithm\n",
    "\n",
    "In this lab, we will implement Shor's algorithm and use it to factor 15 into 3 and 5."
   ]
  },
  {
   "cell_type": "markdown",
   "metadata": {},
   "source": [
    "### 1. Initializing the qubits\n",
    "\n",
    "We will need to initialize our qubits as described above by applying a Hadamard gate on each of the $n$ measurement qubits. We will also set the target qubits to $\\vert1\\rangle$, since that is the eigenstate onto which the unitary operator $U$ will be applied. Here, $\\vert1\\rangle$ is initialized by applying an $X$ gate on the last qubit.\n",
    "\n",
    "We have created a function below called `initialize_qubits` which takes in three arguments. The first argument is the quantum circuit onto which the gates will be applied. The second argument, `n`, is the number of measurement qubits. The third argument, `m`, is the number of target qubits for the unitary operator."
   ]
  },
  {
   "cell_type": "code",
   "execution_count": 26,
   "metadata": {},
   "outputs": [],
   "source": [
    "def initialize_qubits(given_circuit, n, m):\n",
    "    \n",
    "    ### WRITE YOUR CODE BETWEEN THESE LINES - START\n",
    "    #given_circuit = QuantumCircuit(n, m)\n",
    "    for q in range(n):\n",
    "        given_circuit.h(q)\n",
    "    \n",
    "    given_circuit.x(n+m-1)\n",
    "    \n",
    "    ### WRITE YOUR CODE BETWEEN THESE LINES - END"
   ]
  },
  {
   "cell_type": "markdown",
   "metadata": {},
   "source": [
    "### 2. Modular exponentiation\n",
    "\n",
    "We have created a function called `a_x_mod15` below which takes in two arguments, `a` and `x`, and implements the unitary operator $$U = a^x \\text{ mod } 15$$\n",
    "\n",
    "**You do not need to modify this function.**"
   ]
  },
  {
   "cell_type": "code",
   "execution_count": 27,
   "metadata": {},
   "outputs": [],
   "source": [
    "from qiskit import QuantumCircuit\n",
    "\n",
    "def a_x_mod15(a, x):\n",
    "    if a not in [2,7,8,11,13]:\n",
    "        raise ValueError(\"'a' must be 2,7,8,11 or 13\")\n",
    "    U = QuantumCircuit(4)        \n",
    "    for iteration in range(x):\n",
    "        if a in [2,13]:\n",
    "            U.swap(0,1)\n",
    "            U.swap(1,2)\n",
    "            U.swap(2,3)\n",
    "        if a in [7,8]:\n",
    "            U.swap(2,3)\n",
    "            U.swap(1,2)\n",
    "            U.swap(0,1)\n",
    "        if a == 11:\n",
    "            U.swap(1,3)\n",
    "            U.swap(0,2)\n",
    "        if a in [7,11,13]:\n",
    "            for q in range(4):\n",
    "                U.x(q)\n",
    "    U = U.to_gate()\n",
    "    U.name = \"%i^%i mod 15\" % (a, x)\n",
    "    c_U = U.control()\n",
    "    return c_U"
   ]
  },
  {
   "cell_type": "markdown",
   "metadata": {},
   "source": [
    "Note that the function `a_x_mod15` creates a 4-qubit unitary controlled by an additional fifth qubit. In order to use this gate, you will need to append it to your quantum circuit using `Qiskit`'s `circuit.append()` function by passing in the five qubits in a list containing the control qubit first, followed by the four target qubits.\n",
    "\n",
    "Below, we have created a function called `modular_exponentiation` which takes in four arguments. The first argument, `given_circuit`, is the circuit onto which modular exponentiation will be applied. The next two arguments, `n` and `m`, are the numbers of measurement and target qubits. The schematic above for Shor's algorithm will be useful here. The last argument, `a`, is the base of the modular exponentiation. You will need to call the function `a_x_mod15` as needed in the function below."
   ]
  },
  {
   "cell_type": "code",
   "execution_count": 35,
   "metadata": {},
   "outputs": [],
   "source": [
    "def modular_exponentiation(given_circuit, n, m, a):\n",
    "    \n",
    "    ### WRITE YOUR CODE BETWEEN THESE LINES - START\n",
    "    variable = n + m\n",
    "    for q in range(variable): \n",
    "        if(q<n):\n",
    "            given_circuit.append(a_x_mod15(a, 2**(n-q-1)), [q] + [i+n for i in range(4)])\n",
    "    ### WRITE YOUR CODE BETWEEN THESE LINES - END"
   ]
  },
  {
   "cell_type": "markdown",
   "metadata": {},
   "source": [
    "### 3. Implementing the inverse quantum Fourier transform\n",
    "\n",
    "The last step before measuring the first $n$ qubits is the implementation of the inverse quantum Fourier transform. As with `lab3`, you can either implement it on your own or use `Qiskit`'s circuit library.\n",
    "\n",
    "The function `apply_iqft` takes two arguments. The first argument, `given_circuit`, contains the qubits onto which the inverse quantum Fourier transform will be applied. The second argument, `measurement_qubits`, contains the list of qubits onto which the inverse quantum Fourier transform will be applied."
   ]
  },
  {
   "cell_type": "code",
   "execution_count": 29,
   "metadata": {},
   "outputs": [],
   "source": [
    "from qiskit.circuit.library import QFT"
   ]
  },
  {
   "cell_type": "code",
   "execution_count": 36,
   "metadata": {},
   "outputs": [],
   "source": [
    "def apply_iqft(given_circuit, measurement_qubits):\n",
    "    \n",
    "    ### WRITE YOUR CODE BETWEEN THESE LINES - START\n",
    "    given_circuit.append(QFT(n).inverse(), measurement_qubits)\n",
    "    ### WRITE YOUR CODE BETWEEN THESE LINES - END"
   ]
  },
  {
   "cell_type": "markdown",
   "metadata": {},
   "source": [
    "### 4. Putting it all together\n",
    "\n",
    "Finally, we combine the functions to construct the quantum program that implements Shor's algorithm.\n",
    "\n",
    "The next lines of code put everything together. **You do not need to modify anything below, but you will need to run the cell to submit your solution.**"
   ]
  },
  {
   "cell_type": "code",
   "execution_count": 37,
   "metadata": {},
   "outputs": [],
   "source": [
    "from qiskit import QuantumCircuit"
   ]
  },
  {
   "cell_type": "code",
   "execution_count": 38,
   "metadata": {},
   "outputs": [
    {
     "data": {
      "text/html": [
       "<pre style=\"word-wrap: normal;white-space: pre;background: #fff0;line-height: 1.1;font-family: &quot;Courier New&quot;,Courier,monospace\">     ┌───┐ ░                                                              ░ »\n",
       "q_0: ┤ H ├─░────────■─────────────────────────────────────────────────────░─»\n",
       "     ├───┤ ░        │                                                     ░ »\n",
       "q_1: ┤ H ├─░────────┼──────────────■──────────────────────────────────────░─»\n",
       "     ├───┤ ░        │              │                                      ░ »\n",
       "q_2: ┤ H ├─░────────┼──────────────┼──────────────■───────────────────────░─»\n",
       "     ├───┤ ░        │              │              │                       ░ »\n",
       "q_3: ┤ H ├─░────────┼──────────────┼──────────────┼──────────────■────────░─»\n",
       "     └───┘ ░ ┌─────┴┼──────┐┌─────┴┼──────┐┌─────┴┼──────┐┌─────┴┼──────┐ ░ »\n",
       "q_4: ──────░─┤0     │      ├┤0     │      ├┤0     │      ├┤0     │      ├─░─»\n",
       "           ░ │             ││             ││             ││             │ ░ »\n",
       "q_5: ──────░─┤1            ├┤1            ├┤1            ├┤1            ├─░─»\n",
       "           ░ │  7^8 mod 15 ││  7^4 mod 15 ││  7^2 mod 15 ││  7^1 mod 15 │ ░ »\n",
       "q_6: ──────░─┤2            ├┤2            ├┤2            ├┤2            ├─░─»\n",
       "     ┌───┐ ░ │             ││             ││             ││             │ ░ »\n",
       "q_7: ┤ X ├─░─┤3            ├┤3            ├┤3            ├┤3            ├─░─»\n",
       "     └───┘ ░ └─────────────┘└─────────────┘└─────────────┘└─────────────┘ ░ »\n",
       "c_0: ═══════════════════════════════════════════════════════════════════════»\n",
       "                                                                            »\n",
       "c_1: ═══════════════════════════════════════════════════════════════════════»\n",
       "                                                                            »\n",
       "c_2: ═══════════════════════════════════════════════════════════════════════»\n",
       "                                                                            »\n",
       "c_3: ═══════════════════════════════════════════════════════════════════════»\n",
       "                                                                            »\n",
       "«     ┌───────┐┌─┐         \n",
       "«q_0: ┤0      ├┤M├─────────\n",
       "«     │       │└╥┘┌─┐      \n",
       "«q_1: ┤1      ├─╫─┤M├──────\n",
       "«     │  iqft │ ║ └╥┘┌─┐   \n",
       "«q_2: ┤2      ├─╫──╫─┤M├───\n",
       "«     │       │ ║  ║ └╥┘┌─┐\n",
       "«q_3: ┤3      ├─╫──╫──╫─┤M├\n",
       "«     └───────┘ ║  ║  ║ └╥┘\n",
       "«q_4: ──────────╫──╫──╫──╫─\n",
       "«               ║  ║  ║  ║ \n",
       "«q_5: ──────────╫──╫──╫──╫─\n",
       "«               ║  ║  ║  ║ \n",
       "«q_6: ──────────╫──╫──╫──╫─\n",
       "«               ║  ║  ║  ║ \n",
       "«q_7: ──────────╫──╫──╫──╫─\n",
       "«               ║  ║  ║  ║ \n",
       "«c_0: ══════════╩══╬══╬══╬═\n",
       "«                  ║  ║  ║ \n",
       "«c_1: ═════════════╩══╬══╬═\n",
       "«                     ║  ║ \n",
       "«c_2: ════════════════╩══╬═\n",
       "«                        ║ \n",
       "«c_3: ═══════════════════╩═\n",
       "«                          </pre>"
      ],
      "text/plain": [
       "     ┌───┐ ░                                                              ░ »\n",
       "q_0: ┤ H ├─░────────■─────────────────────────────────────────────────────░─»\n",
       "     ├───┤ ░        │                                                     ░ »\n",
       "q_1: ┤ H ├─░────────┼──────────────■──────────────────────────────────────░─»\n",
       "     ├───┤ ░        │              │                                      ░ »\n",
       "q_2: ┤ H ├─░────────┼──────────────┼──────────────■───────────────────────░─»\n",
       "     ├───┤ ░        │              │              │                       ░ »\n",
       "q_3: ┤ H ├─░────────┼──────────────┼──────────────┼──────────────■────────░─»\n",
       "     └───┘ ░ ┌─────┴┼──────┐┌─────┴┼──────┐┌─────┴┼──────┐┌─────┴┼──────┐ ░ »\n",
       "q_4: ──────░─┤0     │      ├┤0     │      ├┤0     │      ├┤0     │      ├─░─»\n",
       "           ░ │             ││             ││             ││             │ ░ »\n",
       "q_5: ──────░─┤1            ├┤1            ├┤1            ├┤1            ├─░─»\n",
       "           ░ │  7^8 mod 15 ││  7^4 mod 15 ││  7^2 mod 15 ││  7^1 mod 15 │ ░ »\n",
       "q_6: ──────░─┤2            ├┤2            ├┤2            ├┤2            ├─░─»\n",
       "     ┌───┐ ░ │             ││             ││             ││             │ ░ »\n",
       "q_7: ┤ X ├─░─┤3            ├┤3            ├┤3            ├┤3            ├─░─»\n",
       "     └───┘ ░ └─────────────┘└─────────────┘└─────────────┘└─────────────┘ ░ »\n",
       "c_0: ═══════════════════════════════════════════════════════════════════════»\n",
       "                                                                            »\n",
       "c_1: ═══════════════════════════════════════════════════════════════════════»\n",
       "                                                                            »\n",
       "c_2: ═══════════════════════════════════════════════════════════════════════»\n",
       "                                                                            »\n",
       "c_3: ═══════════════════════════════════════════════════════════════════════»\n",
       "                                                                            »\n",
       "«     ┌───────┐┌─┐         \n",
       "«q_0: ┤0      ├┤M├─────────\n",
       "«     │       │└╥┘┌─┐      \n",
       "«q_1: ┤1      ├─╫─┤M├──────\n",
       "«     │  iqft │ ║ └╥┘┌─┐   \n",
       "«q_2: ┤2      ├─╫──╫─┤M├───\n",
       "«     │       │ ║  ║ └╥┘┌─┐\n",
       "«q_3: ┤3      ├─╫──╫──╫─┤M├\n",
       "«     └───────┘ ║  ║  ║ └╥┘\n",
       "«q_4: ──────────╫──╫──╫──╫─\n",
       "«               ║  ║  ║  ║ \n",
       "«q_5: ──────────╫──╫──╫──╫─\n",
       "«               ║  ║  ║  ║ \n",
       "«q_6: ──────────╫──╫──╫──╫─\n",
       "«               ║  ║  ║  ║ \n",
       "«q_7: ──────────╫──╫──╫──╫─\n",
       "«               ║  ║  ║  ║ \n",
       "«c_0: ══════════╩══╬══╬══╬═\n",
       "«                  ║  ║  ║ \n",
       "«c_1: ═════════════╩══╬══╬═\n",
       "«                     ║  ║ \n",
       "«c_2: ════════════════╩══╬═\n",
       "«                        ║ \n",
       "«c_3: ═══════════════════╩═\n",
       "«                          "
      ]
     },
     "execution_count": 38,
     "metadata": {},
     "output_type": "execute_result"
    }
   ],
   "source": [
    "def shor_program(n, m, a):\n",
    "    \n",
    "    # set up quantum circuit\n",
    "    shor = QuantumCircuit(n+m, n)\n",
    "    \n",
    "    # initialize the qubits\n",
    "    initialize_qubits(shor, n, m)\n",
    "    shor.barrier()\n",
    "\n",
    "    # apply modular exponentiation\n",
    "    modular_exponentiation(shor, n, m, a)\n",
    "    shor.barrier()\n",
    "\n",
    "    # apply inverse QFT\n",
    "    apply_iqft(shor, range(n))\n",
    "\n",
    "    # measure the first n qubits\n",
    "    shor.measure(range(n), range(n))\n",
    "    \n",
    "    return shor\n",
    "    \n",
    "n = 4; m = 4; a = 7\n",
    "mycircuit = shor_program(n, m, a)\n",
    "mycircuit.draw(output='text')"
   ]
  },
  {
   "cell_type": "markdown",
   "metadata": {},
   "source": [
    "That's it! In order to run your quantum circuit and get the measurement outcomes, you simply need to run `Qiskit`'s `execute` function as follows."
   ]
  },
  {
   "cell_type": "code",
   "execution_count": 39,
   "metadata": {},
   "outputs": [
    {
     "data": {
      "image/png": "[encoded data removed]",
      "text/plain": [
       "<Figure size 504x360 with 1 Axes>"
      ]
     },
     "execution_count": 39,
     "metadata": {},
     "output_type": "execute_result"
    }
   ],
   "source": [
    "from qiskit import Aer, execute\n",
    "simulator = Aer.get_backend('qasm_simulator')\n",
    "counts = execute(mycircuit, backend=simulator, shots=1000).result().get_counts(mycircuit)\n",
    "from qiskit.visualization import plot_histogram\n",
    "plot_histogram(counts)"
   ]
  },
  {
   "cell_type": "code",
   "execution_count": 40,
   "metadata": {},
   "outputs": [
    {
     "name": "stdout",
     "output_type": "stream",
     "text": [
      "Measured 12\n",
      "Measured 0\n",
      "Measured 8\n",
      "Measured 4\n"
     ]
    }
   ],
   "source": [
    "for measured_value in counts:\n",
    "    print(f\"Measured {int(measured_value[::-1], 2)}\")"
   ]
  },
  {
   "cell_type": "markdown",
   "metadata": {},
   "source": [
    "You can then follow the classical post-processing details described in lecture 4 to obtain the factors from the measurement outcomes. If you did everything correctly, you should have only measured 0, 4, 8 and 12.\n",
    "\n",
    "#### Classical post-processing\n",
    "\n",
    "Recall that in order to factor the number $N = pq$, we used a number $a$ coprime with $N$ and computed the period of $a^x \\text{ mod } N$.\n",
    "\n",
    "We will use the sequence of steps outlined in lecture 4 to guess the factors of $N$ using the measurement outcomes."
   ]
  },
  {
   "cell_type": "code",
   "execution_count": 41,
   "metadata": {},
   "outputs": [
    {
     "name": "stdout",
     "output_type": "stream",
     "text": [
      "Measured 12\n",
      "(5, 3)\n",
      "Measured 0\n",
      "(1, 15)\n",
      "Measured 8\n",
      "(1, 15)\n",
      "Measured 4\n",
      "(5, 3)\n"
     ]
    }
   ],
   "source": [
    "from math import gcd\n",
    "\n",
    "for measured_value in counts:\n",
    "    measured_value_decimal = int(measured_value[::-1], 2)\n",
    "    print(f\"Measured {measured_value_decimal}\")\n",
    "    \n",
    "    if measured_value_decimal % 2 != 0:\n",
    "        print(\"Failed. Measured value is not an even number\")\n",
    "        continue\n",
    "    x = int((a ** (measured_value_decimal/2)) % 15)\n",
    "    if (x + 1) % 15 == 0:\n",
    "        print(\"Failed. x + 1 = 0 (mod N) where x = a^(r/2) (mod N)\")\n",
    "        continue\n",
    "    guesses = gcd(x + 1, 15), gcd(x - 1, 15)\n",
    "    print(guesses)"
   ]
  },
  {
   "cell_type": "markdown",
   "metadata": {},
   "source": [
    "#### That's it!\n",
    "\n",
    "You can grade your solution by running the cell below after filling in your name and email address. **Always provide the same name and email as the one you used during registration to ensure consistency.**"
   ]
  },
  {
   "cell_type": "code",
   "execution_count": 42,
   "metadata": {},
   "outputs": [
    {
     "name": "stdout",
     "output_type": "stream",
     "text": [
      "Grading...\n",
      "lab4/ex1 - 🎉 Correct\n",
      "🎊 Hurray! You have a new correct answer! Let's submit it.\n",
      "Submitting the answers for lab4...\n",
      "📝 Our records, so far, are:\n",
      "Correct answers: lab1:ex1, lab2:ex1, lab4:ex1\n"
     ]
    }
   ],
   "source": [
    "name = 'Seenivasan Hariharan'\n",
    "email = 'hseeni@gmail.com'\n",
    "\n",
    "### Do not change the lines below\n",
    "from grading_tools import grade\n",
    "from qiskit import transpile\n",
    "mycircuit_t = transpile(mycircuit, basis_gates = ['u1', 'u2', 'u3', 'cx'])\n",
    "grade(answer=mycircuit_t, name=name, email=email, labid='lab4', exerciseid='ex1')"
   ]
  },
  {
   "cell_type": "markdown",
   "metadata": {},
   "source": [
    "# Additional reading\n",
    "\n",
    "- The first experimental demonstration of Shor's algorithm was completed by researchers at IBM and Stanford in 2001 using an experimental platform called nuclear magnetic resonance. You can find the paper here: https://www.nature.com/articles/414883a\n",
    "- For additional details on the method of continued fractions, you may refer to this page (https://riliu.math.ncsu.edu/437/notes3se4.html) or any standard reference such as Mermin's Quantum Computer Science text."
   ]
  }
 ],
 "metadata": {
  "kernelspec": {
   "display_name": "Python 3",
   "language": "python",
   "name": "python3"
  },
  "language_info": {
   "codemirror_mode": {
    "name": "ipython",
    "version": 3
   },
   "file_extension": ".py",
   "mimetype": "text/x-python",
   "name": "python",
   "nbconvert_exporter": "python",
   "pygments_lexer": "ipython3",
   "version": "3.7.6"
  }
 },
 "nbformat": 4,
 "nbformat_minor": 4
}
