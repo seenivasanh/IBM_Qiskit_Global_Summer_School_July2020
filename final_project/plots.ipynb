{
 "cells": [
  {
   "cell_type": "code",
   "execution_count": 2,
   "metadata": {},
   "outputs": [
    {
     "name": "stdout",
     "output_type": "stream",
     "text": [
      "C:/Users/Bjorn/Desktop/Qiskit summer 2020/final project/simulations/results_statevector_BK\n"
     ]
    },
    {
     "data": {
      "text/html": [
       "<div>\n",
       "<style scoped>\n",
       "    .dataframe tbody tr th:only-of-type {\n",
       "        vertical-align: middle;\n",
       "    }\n",
       "\n",
       "    .dataframe tbody tr th {\n",
       "        vertical-align: top;\n",
       "    }\n",
       "\n",
       "    .dataframe thead th {\n",
       "        text-align: right;\n",
       "    }\n",
       "</style>\n",
       "<table border=\"1\" class=\"dataframe\">\n",
       "  <thead>\n",
       "    <tr style=\"text-align: right;\">\n",
       "      <th></th>\n",
       "      <th>distance</th>\n",
       "      <th>vqe_E</th>\n",
       "      <th>ref_E</th>\n",
       "      <th>opt</th>\n",
       "      <th>parity</th>\n",
       "      <th>opt_calls</th>\n",
       "      <th>cost_func_calls</th>\n",
       "    </tr>\n",
       "  </thead>\n",
       "  <tbody>\n",
       "    <tr>\n",
       "      <th>0</th>\n",
       "      <td>0.5</td>\n",
       "      <td>-6.562954</td>\n",
       "      <td>-0.526300</td>\n",
       "      <td>SLSQP</td>\n",
       "      <td>bravyi_kitaev</td>\n",
       "      <td>42</td>\n",
       "      <td>42</td>\n",
       "    </tr>\n",
       "    <tr>\n",
       "      <th>1</th>\n",
       "      <td>0.6</td>\n",
       "      <td>-6.896407</td>\n",
       "      <td>-0.655206</td>\n",
       "      <td>SLSQP</td>\n",
       "      <td>bravyi_kitaev</td>\n",
       "      <td>42</td>\n",
       "      <td>42</td>\n",
       "    </tr>\n",
       "    <tr>\n",
       "      <th>2</th>\n",
       "      <td>0.7</td>\n",
       "      <td>-7.103151</td>\n",
       "      <td>-0.732597</td>\n",
       "      <td>SLSQP</td>\n",
       "      <td>bravyi_kitaev</td>\n",
       "      <td>42</td>\n",
       "      <td>42</td>\n",
       "    </tr>\n",
       "    <tr>\n",
       "      <th>3</th>\n",
       "      <td>0.8</td>\n",
       "      <td>-7.230380</td>\n",
       "      <td>-0.769027</td>\n",
       "      <td>SLSQP</td>\n",
       "      <td>bravyi_kitaev</td>\n",
       "      <td>42</td>\n",
       "      <td>42</td>\n",
       "    </tr>\n",
       "    <tr>\n",
       "      <th>4</th>\n",
       "      <td>0.9</td>\n",
       "      <td>-7.308087</td>\n",
       "      <td>-0.777601</td>\n",
       "      <td>SLSQP</td>\n",
       "      <td>bravyi_kitaev</td>\n",
       "      <td>42</td>\n",
       "      <td>42</td>\n",
       "    </tr>\n",
       "    <tr>\n",
       "      <th>...</th>\n",
       "      <td>...</td>\n",
       "      <td>...</td>\n",
       "      <td>...</td>\n",
       "      <td>...</td>\n",
       "      <td>...</td>\n",
       "      <td>...</td>\n",
       "      <td>...</td>\n",
       "    </tr>\n",
       "    <tr>\n",
       "      <th>135</th>\n",
       "      <td>3.5</td>\n",
       "      <td>-7.617632</td>\n",
       "      <td>-0.739436</td>\n",
       "      <td>L_BFGS_B</td>\n",
       "      <td>bravyi_kitaev</td>\n",
       "      <td>15</td>\n",
       "      <td>15</td>\n",
       "    </tr>\n",
       "    <tr>\n",
       "      <th>136</th>\n",
       "      <td>3.6</td>\n",
       "      <td>-7.609338</td>\n",
       "      <td>-0.734967</td>\n",
       "      <td>L_BFGS_B</td>\n",
       "      <td>bravyi_kitaev</td>\n",
       "      <td>20</td>\n",
       "      <td>20</td>\n",
       "    </tr>\n",
       "    <tr>\n",
       "      <th>137</th>\n",
       "      <td>3.7</td>\n",
       "      <td>-7.601118</td>\n",
       "      <td>-0.730492</td>\n",
       "      <td>L_BFGS_B</td>\n",
       "      <td>bravyi_kitaev</td>\n",
       "      <td>50</td>\n",
       "      <td>50</td>\n",
       "    </tr>\n",
       "    <tr>\n",
       "      <th>138</th>\n",
       "      <td>3.8</td>\n",
       "      <td>-7.593108</td>\n",
       "      <td>-0.726021</td>\n",
       "      <td>L_BFGS_B</td>\n",
       "      <td>bravyi_kitaev</td>\n",
       "      <td>50</td>\n",
       "      <td>50</td>\n",
       "    </tr>\n",
       "    <tr>\n",
       "      <th>139</th>\n",
       "      <td>3.9</td>\n",
       "      <td>-7.585408</td>\n",
       "      <td>-0.721566</td>\n",
       "      <td>L_BFGS_B</td>\n",
       "      <td>bravyi_kitaev</td>\n",
       "      <td>50</td>\n",
       "      <td>50</td>\n",
       "    </tr>\n",
       "  </tbody>\n",
       "</table>\n",
       "<p>140 rows × 7 columns</p>\n",
       "</div>"
      ],
      "text/plain": [
       "     distance     vqe_E     ref_E       opt         parity  opt_calls  \\\n",
       "0         0.5 -6.562954 -0.526300     SLSQP  bravyi_kitaev         42   \n",
       "1         0.6 -6.896407 -0.655206     SLSQP  bravyi_kitaev         42   \n",
       "2         0.7 -7.103151 -0.732597     SLSQP  bravyi_kitaev         42   \n",
       "3         0.8 -7.230380 -0.769027     SLSQP  bravyi_kitaev         42   \n",
       "4         0.9 -7.308087 -0.777601     SLSQP  bravyi_kitaev         42   \n",
       "..        ...       ...       ...       ...            ...        ...   \n",
       "135       3.5 -7.617632 -0.739436  L_BFGS_B  bravyi_kitaev         15   \n",
       "136       3.6 -7.609338 -0.734967  L_BFGS_B  bravyi_kitaev         20   \n",
       "137       3.7 -7.601118 -0.730492  L_BFGS_B  bravyi_kitaev         50   \n",
       "138       3.8 -7.593108 -0.726021  L_BFGS_B  bravyi_kitaev         50   \n",
       "139       3.9 -7.585408 -0.721566  L_BFGS_B  bravyi_kitaev         50   \n",
       "\n",
       "     cost_func_calls  \n",
       "0                 42  \n",
       "1                 42  \n",
       "2                 42  \n",
       "3                 42  \n",
       "4                 42  \n",
       "..               ...  \n",
       "135               15  \n",
       "136               20  \n",
       "137               50  \n",
       "138               50  \n",
       "139               50  \n",
       "\n",
       "[140 rows x 7 columns]"
      ]
     },
     "metadata": {},
     "output_type": "display_data"
    },
    {
     "name": "stdout",
     "output_type": "stream",
     "text": [
      "C:/Users/Bjorn/Desktop/Qiskit summer 2020/final project/simulations/results_statevector_JW\n"
     ]
    },
    {
     "data": {
      "text/html": [
       "<div>\n",
       "<style scoped>\n",
       "    .dataframe tbody tr th:only-of-type {\n",
       "        vertical-align: middle;\n",
       "    }\n",
       "\n",
       "    .dataframe tbody tr th {\n",
       "        vertical-align: top;\n",
       "    }\n",
       "\n",
       "    .dataframe thead th {\n",
       "        text-align: right;\n",
       "    }\n",
       "</style>\n",
       "<table border=\"1\" class=\"dataframe\">\n",
       "  <thead>\n",
       "    <tr style=\"text-align: right;\">\n",
       "      <th></th>\n",
       "      <th>distance</th>\n",
       "      <th>vqe_E</th>\n",
       "      <th>ref_E</th>\n",
       "      <th>opt</th>\n",
       "      <th>parity</th>\n",
       "      <th>opt_calls</th>\n",
       "      <th>cost_func_calls</th>\n",
       "    </tr>\n",
       "  </thead>\n",
       "  <tbody>\n",
       "    <tr>\n",
       "      <th>0</th>\n",
       "      <td>0.5</td>\n",
       "      <td>-6.552837</td>\n",
       "      <td>-0.552957</td>\n",
       "      <td>SLSQP</td>\n",
       "      <td>jordan_wigner</td>\n",
       "      <td>156</td>\n",
       "      <td>156</td>\n",
       "    </tr>\n",
       "    <tr>\n",
       "      <th>1</th>\n",
       "      <td>0.6</td>\n",
       "      <td>-6.885182</td>\n",
       "      <td>-0.684017</td>\n",
       "      <td>SLSQP</td>\n",
       "      <td>jordan_wigner</td>\n",
       "      <td>173</td>\n",
       "      <td>173</td>\n",
       "    </tr>\n",
       "    <tr>\n",
       "      <th>2</th>\n",
       "      <td>0.7</td>\n",
       "      <td>-7.092592</td>\n",
       "      <td>-0.762332</td>\n",
       "      <td>SLSQP</td>\n",
       "      <td>jordan_wigner</td>\n",
       "      <td>127</td>\n",
       "      <td>127</td>\n",
       "    </tr>\n",
       "    <tr>\n",
       "      <th>3</th>\n",
       "      <td>0.8</td>\n",
       "      <td>-7.220658</td>\n",
       "      <td>-0.798952</td>\n",
       "      <td>SLSQP</td>\n",
       "      <td>jordan_wigner</td>\n",
       "      <td>159</td>\n",
       "      <td>159</td>\n",
       "    </tr>\n",
       "    <tr>\n",
       "      <th>4</th>\n",
       "      <td>0.9</td>\n",
       "      <td>-7.298878</td>\n",
       "      <td>-0.807363</td>\n",
       "      <td>SLSQP</td>\n",
       "      <td>jordan_wigner</td>\n",
       "      <td>180</td>\n",
       "      <td>180</td>\n",
       "    </tr>\n",
       "    <tr>\n",
       "      <th>...</th>\n",
       "      <td>...</td>\n",
       "      <td>...</td>\n",
       "      <td>...</td>\n",
       "      <td>...</td>\n",
       "      <td>...</td>\n",
       "      <td>...</td>\n",
       "      <td>...</td>\n",
       "    </tr>\n",
       "    <tr>\n",
       "      <th>135</th>\n",
       "      <td>3.5</td>\n",
       "      <td>-7.594912</td>\n",
       "      <td>-0.749818</td>\n",
       "      <td>L_BFGS_B</td>\n",
       "      <td>jordan_wigner</td>\n",
       "      <td>165</td>\n",
       "      <td>165</td>\n",
       "    </tr>\n",
       "    <tr>\n",
       "      <th>136</th>\n",
       "      <td>3.6</td>\n",
       "      <td>-7.546929</td>\n",
       "      <td>-0.742267</td>\n",
       "      <td>L_BFGS_B</td>\n",
       "      <td>jordan_wigner</td>\n",
       "      <td>135</td>\n",
       "      <td>135</td>\n",
       "    </tr>\n",
       "    <tr>\n",
       "      <th>137</th>\n",
       "      <td>3.7</td>\n",
       "      <td>-7.583510</td>\n",
       "      <td>-0.734818</td>\n",
       "      <td>L_BFGS_B</td>\n",
       "      <td>jordan_wigner</td>\n",
       "      <td>155</td>\n",
       "      <td>155</td>\n",
       "    </tr>\n",
       "    <tr>\n",
       "      <th>138</th>\n",
       "      <td>3.8</td>\n",
       "      <td>-7.570411</td>\n",
       "      <td>-0.727618</td>\n",
       "      <td>L_BFGS_B</td>\n",
       "      <td>jordan_wigner</td>\n",
       "      <td>160</td>\n",
       "      <td>160</td>\n",
       "    </tr>\n",
       "    <tr>\n",
       "      <th>139</th>\n",
       "      <td>3.9</td>\n",
       "      <td>-7.563149</td>\n",
       "      <td>-0.720781</td>\n",
       "      <td>L_BFGS_B</td>\n",
       "      <td>jordan_wigner</td>\n",
       "      <td>140</td>\n",
       "      <td>140</td>\n",
       "    </tr>\n",
       "  </tbody>\n",
       "</table>\n",
       "<p>140 rows × 7 columns</p>\n",
       "</div>"
      ],
      "text/plain": [
       "     distance     vqe_E     ref_E       opt         parity  opt_calls  \\\n",
       "0         0.5 -6.552837 -0.552957     SLSQP  jordan_wigner        156   \n",
       "1         0.6 -6.885182 -0.684017     SLSQP  jordan_wigner        173   \n",
       "2         0.7 -7.092592 -0.762332     SLSQP  jordan_wigner        127   \n",
       "3         0.8 -7.220658 -0.798952     SLSQP  jordan_wigner        159   \n",
       "4         0.9 -7.298878 -0.807363     SLSQP  jordan_wigner        180   \n",
       "..        ...       ...       ...       ...            ...        ...   \n",
       "135       3.5 -7.594912 -0.749818  L_BFGS_B  jordan_wigner        165   \n",
       "136       3.6 -7.546929 -0.742267  L_BFGS_B  jordan_wigner        135   \n",
       "137       3.7 -7.583510 -0.734818  L_BFGS_B  jordan_wigner        155   \n",
       "138       3.8 -7.570411 -0.727618  L_BFGS_B  jordan_wigner        160   \n",
       "139       3.9 -7.563149 -0.720781  L_BFGS_B  jordan_wigner        140   \n",
       "\n",
       "     cost_func_calls  \n",
       "0                156  \n",
       "1                173  \n",
       "2                127  \n",
       "3                159  \n",
       "4                180  \n",
       "..               ...  \n",
       "135              165  \n",
       "136              135  \n",
       "137              155  \n",
       "138              160  \n",
       "139              140  \n",
       "\n",
       "[140 rows x 7 columns]"
      ]
     },
     "metadata": {},
     "output_type": "display_data"
    },
    {
     "name": "stdout",
     "output_type": "stream",
     "text": [
      "C:/Users/Bjorn/Desktop/Qiskit summer 2020/final project/simulations/results_statevector_parity\n"
     ]
    },
    {
     "data": {
      "text/html": [
       "<div>\n",
       "<style scoped>\n",
       "    .dataframe tbody tr th:only-of-type {\n",
       "        vertical-align: middle;\n",
       "    }\n",
       "\n",
       "    .dataframe tbody tr th {\n",
       "        vertical-align: top;\n",
       "    }\n",
       "\n",
       "    .dataframe thead th {\n",
       "        text-align: right;\n",
       "    }\n",
       "</style>\n",
       "<table border=\"1\" class=\"dataframe\">\n",
       "  <thead>\n",
       "    <tr style=\"text-align: right;\">\n",
       "      <th></th>\n",
       "      <th>distance</th>\n",
       "      <th>vqe_E</th>\n",
       "      <th>ref_E</th>\n",
       "      <th>opt</th>\n",
       "      <th>parity</th>\n",
       "      <th>opt_calls</th>\n",
       "      <th>cost_func_calls</th>\n",
       "    </tr>\n",
       "  </thead>\n",
       "  <tbody>\n",
       "    <tr>\n",
       "      <th>0</th>\n",
       "      <td>0.5</td>\n",
       "      <td>-7.028410</td>\n",
       "      <td>-0.979268</td>\n",
       "      <td>SLSQP</td>\n",
       "      <td>parity</td>\n",
       "      <td>6</td>\n",
       "      <td>6</td>\n",
       "    </tr>\n",
       "    <tr>\n",
       "      <th>1</th>\n",
       "      <td>0.6</td>\n",
       "      <td>-7.299541</td>\n",
       "      <td>-1.049236</td>\n",
       "      <td>SLSQP</td>\n",
       "      <td>parity</td>\n",
       "      <td>6</td>\n",
       "      <td>6</td>\n",
       "    </tr>\n",
       "    <tr>\n",
       "      <th>2</th>\n",
       "      <td>0.7</td>\n",
       "      <td>-7.485945</td>\n",
       "      <td>-1.107241</td>\n",
       "      <td>SLSQP</td>\n",
       "      <td>parity</td>\n",
       "      <td>6</td>\n",
       "      <td>6</td>\n",
       "    </tr>\n",
       "    <tr>\n",
       "      <th>3</th>\n",
       "      <td>0.8</td>\n",
       "      <td>-7.615770</td>\n",
       "      <td>-1.146159</td>\n",
       "      <td>SLSQP</td>\n",
       "      <td>parity</td>\n",
       "      <td>6</td>\n",
       "      <td>6</td>\n",
       "    </tr>\n",
       "    <tr>\n",
       "      <th>4</th>\n",
       "      <td>0.9</td>\n",
       "      <td>-7.705753</td>\n",
       "      <td>-1.166653</td>\n",
       "      <td>SLSQP</td>\n",
       "      <td>parity</td>\n",
       "      <td>6</td>\n",
       "      <td>6</td>\n",
       "    </tr>\n",
       "    <tr>\n",
       "      <th>...</th>\n",
       "      <td>...</td>\n",
       "      <td>...</td>\n",
       "      <td>...</td>\n",
       "      <td>...</td>\n",
       "      <td>...</td>\n",
       "      <td>...</td>\n",
       "      <td>...</td>\n",
       "    </tr>\n",
       "    <tr>\n",
       "      <th>135</th>\n",
       "      <td>3.5</td>\n",
       "      <td>-7.661202</td>\n",
       "      <td>-0.803586</td>\n",
       "      <td>L_BFGS_B</td>\n",
       "      <td>parity</td>\n",
       "      <td>5</td>\n",
       "      <td>5</td>\n",
       "    </tr>\n",
       "    <tr>\n",
       "      <th>136</th>\n",
       "      <td>3.6</td>\n",
       "      <td>-7.652895</td>\n",
       "      <td>-0.798264</td>\n",
       "      <td>L_BFGS_B</td>\n",
       "      <td>parity</td>\n",
       "      <td>5</td>\n",
       "      <td>5</td>\n",
       "    </tr>\n",
       "    <tr>\n",
       "      <th>137</th>\n",
       "      <td>3.7</td>\n",
       "      <td>-7.645133</td>\n",
       "      <td>-0.793381</td>\n",
       "      <td>L_BFGS_B</td>\n",
       "      <td>parity</td>\n",
       "      <td>5</td>\n",
       "      <td>5</td>\n",
       "    </tr>\n",
       "    <tr>\n",
       "      <th>138</th>\n",
       "      <td>3.8</td>\n",
       "      <td>-7.637906</td>\n",
       "      <td>-0.788882</td>\n",
       "      <td>L_BFGS_B</td>\n",
       "      <td>parity</td>\n",
       "      <td>5</td>\n",
       "      <td>5</td>\n",
       "    </tr>\n",
       "    <tr>\n",
       "      <th>139</th>\n",
       "      <td>3.9</td>\n",
       "      <td>-7.631193</td>\n",
       "      <td>-0.784718</td>\n",
       "      <td>L_BFGS_B</td>\n",
       "      <td>parity</td>\n",
       "      <td>5</td>\n",
       "      <td>5</td>\n",
       "    </tr>\n",
       "  </tbody>\n",
       "</table>\n",
       "<p>140 rows × 7 columns</p>\n",
       "</div>"
      ],
      "text/plain": [
       "     distance     vqe_E     ref_E       opt  parity  opt_calls  \\\n",
       "0         0.5 -7.028410 -0.979268     SLSQP  parity          6   \n",
       "1         0.6 -7.299541 -1.049236     SLSQP  parity          6   \n",
       "2         0.7 -7.485945 -1.107241     SLSQP  parity          6   \n",
       "3         0.8 -7.615770 -1.146159     SLSQP  parity          6   \n",
       "4         0.9 -7.705753 -1.166653     SLSQP  parity          6   \n",
       "..        ...       ...       ...       ...     ...        ...   \n",
       "135       3.5 -7.661202 -0.803586  L_BFGS_B  parity          5   \n",
       "136       3.6 -7.652895 -0.798264  L_BFGS_B  parity          5   \n",
       "137       3.7 -7.645133 -0.793381  L_BFGS_B  parity          5   \n",
       "138       3.8 -7.637906 -0.788882  L_BFGS_B  parity          5   \n",
       "139       3.9 -7.631193 -0.784718  L_BFGS_B  parity          5   \n",
       "\n",
       "     cost_func_calls  \n",
       "0                  6  \n",
       "1                  6  \n",
       "2                  6  \n",
       "3                  6  \n",
       "4                  6  \n",
       "..               ...  \n",
       "135                5  \n",
       "136                5  \n",
       "137                5  \n",
       "138                5  \n",
       "139                5  \n",
       "\n",
       "[140 rows x 7 columns]"
      ]
     },
     "metadata": {},
     "output_type": "display_data"
    }
   ],
   "source": [
    "import numpy as np\n",
    "import pandas as pd\n",
    "\n",
    "path = 'C:/Users/Bjorn/Desktop/Qiskit summer 2020/final project/simulations/'\n",
    "\n",
    "filenames = ['results_statevector_BK', 'results_statevector_JW', 'results_statevector_parity']\n",
    "\n",
    "files = map(lambda f: path+f, filenames)\n",
    "for file in files:\n",
    "    df = pd.read_pickle(file)\n",
    "    print(file)\n",
    "    display(df)"
   ]
  },
  {
   "cell_type": "code",
   "execution_count": 4,
   "metadata": {},
   "outputs": [
    {
     "data": {
      "application/vnd.plotly.v1+json": {
       "config": {
        "plotlyServerURL": "https://plot.ly"
       },
       "data": [
        {
         "hovertemplate": "opt=COBYLA<br>distance=%{x}<br>value=%{y}<extra></extra>",
         "legendgroup": "COBYLA",
         "line": {
          "color": "#636efa",
          "dash": "solid"
         },
         "mode": "lines",
         "name": "COBYLA",
         "orientation": "v",
         "showlegend": true,
         "type": "scatter",
         "x": [
          0.5,
          0.6,
          0.7,
          0.7999999999999999,
          0.8999999999999999,
          0.9999999999999999,
          1.0999999999999999,
          1.1999999999999997,
          1.2999999999999998,
          1.4,
          1.4999999999999998,
          1.5999999999999996,
          1.6999999999999997,
          1.7999999999999998,
          1.8999999999999997,
          1.9999999999999996,
          2.0999999999999996,
          2.1999999999999997,
          2.3,
          2.3999999999999995,
          2.4999999999999996,
          2.5999999999999996,
          2.6999999999999993,
          2.7999999999999994,
          2.8999999999999995,
          2.9999999999999996,
          3.0999999999999996,
          3.1999999999999993,
          3.2999999999999994,
          3.3999999999999995,
          3.499999999999999,
          3.599999999999999,
          3.6999999999999993,
          3.7999999999999994,
          3.8999999999999995
         ],
         "xaxis": "x",
         "y": [
          -6.562857583313609,
          -6.896360300269886,
          -7.103061992461381,
          -7.230311094524696,
          -7.308030276698457,
          -7.357028564163363,
          -7.391357334981069,
          -7.419779617215504,
          -7.446653189639095,
          -7.473337571443238,
          -7.499910821911619,
          -7.525597914670952,
          -7.549756336777536,
          -7.571807165156799,
          -7.591390259579732,
          -7.6083333090799,
          -7.622728174535236,
          -7.634665609014947,
          -7.644096289000461,
          -7.65123106445285,
          -7.6562278263679175,
          -7.659160279742999,
          -7.6601637876806,
          -7.65934756801752,
          -7.656846851737099,
          -7.65281661756044,
          -7.647451054625515,
          -7.640985318328972,
          -7.633695125245797,
          -7.625824205319234,
          -7.617632274447291,
          -7.609337981854851,
          -7.601118245579194,
          -7.593106761097904,
          -7.585406487050708
         ],
         "yaxis": "y"
        },
        {
         "hovertemplate": "opt=L_BFGS_B<br>distance=%{x}<br>value=%{y}<extra></extra>",
         "legendgroup": "L_BFGS_B",
         "line": {
          "color": "#EF553B",
          "dash": "solid"
         },
         "mode": "lines",
         "name": "L_BFGS_B",
         "orientation": "v",
         "showlegend": true,
         "type": "scatter",
         "x": [
          0.5,
          0.6,
          0.7,
          0.7999999999999999,
          0.8999999999999999,
          0.9999999999999999,
          1.0999999999999999,
          1.1999999999999997,
          1.2999999999999998,
          1.4,
          1.4999999999999998,
          1.5999999999999996,
          1.6999999999999997,
          1.7999999999999998,
          1.8999999999999997,
          1.9999999999999996,
          2.0999999999999996,
          2.1999999999999997,
          2.3,
          2.3999999999999995,
          2.4999999999999996,
          2.5999999999999996,
          2.6999999999999993,
          2.7999999999999994,
          2.8999999999999995,
          2.9999999999999996,
          3.0999999999999996,
          3.1999999999999993,
          3.2999999999999994,
          3.3999999999999995,
          3.499999999999999,
          3.599999999999999,
          3.6999999999999993,
          3.7999999999999994,
          3.8999999999999995
         ],
         "xaxis": "x",
         "y": [
          -6.562984329983586,
          -6.896429471587388,
          -7.103173229375449,
          -7.2304026138287405,
          -7.308111482695104,
          -7.357072547460131,
          -7.391457100268279,
          -7.419902948099487,
          -7.446739773358065,
          -7.473449689609575,
          -7.49997927399795,
          -7.525676731036834,
          -7.5498221278303435,
          -7.571859141608579,
          -7.591449020872955,
          -7.60844297617717,
          -7.622828991180899,
          -7.634679566277197,
          -7.644110190194133,
          -7.651250641582011,
          -7.656228325790563,
          -7.659162008082501,
          -7.660164111577013,
          -7.65934953189323,
          -7.656848452733227,
          -7.652818756896986,
          -7.647457239202909,
          -7.640996246837182,
          -7.633696116492635,
          -7.625824206603286,
          -7.617632190296709,
          -7.609337982275837,
          -7.601118424484183,
          -7.593108025690988,
          -7.585407547929926
         ],
         "yaxis": "y"
        },
        {
         "hovertemplate": "opt=SLSQP<br>distance=%{x}<br>value=%{y}<extra></extra>",
         "legendgroup": "SLSQP",
         "line": {
          "color": "#00cc96",
          "dash": "solid"
         },
         "mode": "lines",
         "name": "SLSQP",
         "orientation": "v",
         "showlegend": true,
         "type": "scatter",
         "x": [
          0.5,
          0.6,
          0.7,
          0.7999999999999999,
          0.8999999999999999,
          0.9999999999999999,
          1.0999999999999999,
          1.1999999999999997,
          1.2999999999999998,
          1.4,
          1.4999999999999998,
          1.5999999999999996,
          1.6999999999999997,
          1.7999999999999998,
          1.8999999999999997,
          1.9999999999999996,
          2.0999999999999996,
          2.1999999999999997,
          2.3,
          2.3999999999999995,
          2.4999999999999996,
          2.5999999999999996,
          2.6999999999999993,
          2.7999999999999994,
          2.8999999999999995,
          2.9999999999999996,
          3.0999999999999996,
          3.1999999999999993,
          3.2999999999999994,
          3.3999999999999995,
          3.499999999999999,
          3.599999999999999,
          3.6999999999999993,
          3.7999999999999994,
          3.8999999999999995
         ],
         "xaxis": "x",
         "y": [
          -6.5629542275763875,
          -6.896406785371995,
          -7.103151362894871,
          -7.230379595673246,
          -7.3080869455720645,
          -7.357047104713638,
          -7.391431809473869,
          -7.419878840034896,
          -7.446717578039365,
          -7.473429767113989,
          -7.499961669464021,
          -7.525661286794816,
          -7.549808591609439,
          -7.571847241668411,
          -7.591438989679721,
          -7.608434122689244,
          -7.622820988219078,
          -7.634672944596665,
          -7.644104460123033,
          -7.651245576410113,
          -7.656224378896856,
          -7.659158890661253,
          -7.6601617546365475,
          -7.659347752537108,
          -7.65684750800223,
          -7.652818725989868,
          -7.647427508985444,
          -7.640985102618257,
          -7.633693813173516,
          -7.625824206570619,
          -7.617632190230358,
          -7.609337978981461,
          -7.6011168436417895,
          -7.59309777603748,
          -7.585376406023189
         ],
         "yaxis": "y"
        },
        {
         "hovertemplate": "opt=SPSA<br>distance=%{x}<br>value=%{y}<extra></extra>",
         "legendgroup": "SPSA",
         "line": {
          "color": "#ab63fa",
          "dash": "solid"
         },
         "mode": "lines",
         "name": "SPSA",
         "orientation": "v",
         "showlegend": true,
         "type": "scatter",
         "x": [
          0.5,
          0.6,
          0.7,
          0.7999999999999999,
          0.8999999999999999,
          0.9999999999999999,
          1.0999999999999999,
          1.1999999999999997,
          1.2999999999999998,
          1.4,
          1.4999999999999998,
          1.5999999999999996,
          1.6999999999999997,
          1.7999999999999998,
          1.8999999999999997,
          1.9999999999999996,
          2.0999999999999996,
          2.1999999999999997,
          2.3,
          2.3999999999999995,
          2.4999999999999996,
          2.5999999999999996,
          2.6999999999999993,
          2.7999999999999994,
          2.8999999999999995,
          2.9999999999999996,
          3.0999999999999996,
          3.1999999999999993,
          3.2999999999999994,
          3.3999999999999995,
          3.499999999999999,
          3.599999999999999,
          3.6999999999999993,
          3.7999999999999994,
          3.8999999999999995
         ],
         "xaxis": "x",
         "y": [
          -6.562248757247339,
          -6.896595138963036,
          -6.785366580060497,
          -6.986296550738151,
          -6.868311188355423,
          -7.2040515160128535,
          -7.27001145502838,
          -7.0564886296718194,
          -7.290867667576769,
          -7.227950847876303,
          -7.266308512002443,
          -7.431730699181803,
          -7.20304831639115,
          -7.438972104340358,
          -7.5280820093245255,
          -7.594130083637238,
          -7.589789596446865,
          -7.546085476275849,
          -7.287151258341171,
          -7.471880302451477,
          -7.606970380854416,
          -7.64728157196028,
          -7.077604976506023,
          -7.14681268066348,
          -7.649084460961239,
          -7.649713524062866,
          -7.1317187499881785,
          -7.602172198059945,
          -7.489378328387486,
          -7.560947421411258,
          -7.2198435381071295,
          -7.21681487639059,
          -7.558594693487764,
          -7.3788958720840645,
          -7.129863777437588
         ],
         "yaxis": "y"
        }
       ],
       "layout": {
        "legend": {
         "title": {
          "text": "opt"
         },
         "tracegroupgap": 0
        },
        "template": {
         "data": {
          "bar": [
           {
            "error_x": {
             "color": "#2a3f5f"
            },
            "error_y": {
             "color": "#2a3f5f"
            },
            "marker": {
             "line": {
              "color": "#E5ECF6",
              "width": 0.5
             }
            },
            "type": "bar"
           }
          ],
          "barpolar": [
           {
            "marker": {
             "line": {
              "color": "#E5ECF6",
              "width": 0.5
             }
            },
            "type": "barpolar"
           }
          ],
          "carpet": [
           {
            "aaxis": {
             "endlinecolor": "#2a3f5f",
             "gridcolor": "white",
             "linecolor": "white",
             "minorgridcolor": "white",
             "startlinecolor": "#2a3f5f"
            },
            "baxis": {
             "endlinecolor": "#2a3f5f",
             "gridcolor": "white",
             "linecolor": "white",
             "minorgridcolor": "white",
             "startlinecolor": "#2a3f5f"
            },
            "type": "carpet"
           }
          ],
          "choropleth": [
           {
            "colorbar": {
             "outlinewidth": 0,
             "ticks": ""
            },
            "type": "choropleth"
           }
          ],
          "contour": [
           {
            "colorbar": {
             "outlinewidth": 0,
             "ticks": ""
            },
            "colorscale": [
             [
              0,
              "#0d0887"
             ],
             [
              0.1111111111111111,
              "#46039f"
             ],
             [
              0.2222222222222222,
              "#7201a8"
             ],
             [
              0.3333333333333333,
              "#9c179e"
             ],
             [
              0.4444444444444444,
              "#bd3786"
             ],
             [
              0.5555555555555556,
              "#d8576b"
             ],
             [
              0.6666666666666666,
              "#ed7953"
             ],
             [
              0.7777777777777778,
              "#fb9f3a"
             ],
             [
              0.8888888888888888,
              "#fdca26"
             ],
             [
              1,
              "#f0f921"
             ]
            ],
            "type": "contour"
           }
          ],
          "contourcarpet": [
           {
            "colorbar": {
             "outlinewidth": 0,
             "ticks": ""
            },
            "type": "contourcarpet"
           }
          ],
          "heatmap": [
           {
            "colorbar": {
             "outlinewidth": 0,
             "ticks": ""
            },
            "colorscale": [
             [
              0,
              "#0d0887"
             ],
             [
              0.1111111111111111,
              "#46039f"
             ],
             [
              0.2222222222222222,
              "#7201a8"
             ],
             [
              0.3333333333333333,
              "#9c179e"
             ],
             [
              0.4444444444444444,
              "#bd3786"
             ],
             [
              0.5555555555555556,
              "#d8576b"
             ],
             [
              0.6666666666666666,
              "#ed7953"
             ],
             [
              0.7777777777777778,
              "#fb9f3a"
             ],
             [
              0.8888888888888888,
              "#fdca26"
             ],
             [
              1,
              "#f0f921"
             ]
            ],
            "type": "heatmap"
           }
          ],
          "heatmapgl": [
           {
            "colorbar": {
             "outlinewidth": 0,
             "ticks": ""
            },
            "colorscale": [
             [
              0,
              "#0d0887"
             ],
             [
              0.1111111111111111,
              "#46039f"
             ],
             [
              0.2222222222222222,
              "#7201a8"
             ],
             [
              0.3333333333333333,
              "#9c179e"
             ],
             [
              0.4444444444444444,
              "#bd3786"
             ],
             [
              0.5555555555555556,
              "#d8576b"
             ],
             [
              0.6666666666666666,
              "#ed7953"
             ],
             [
              0.7777777777777778,
              "#fb9f3a"
             ],
             [
              0.8888888888888888,
              "#fdca26"
             ],
             [
              1,
              "#f0f921"
             ]
            ],
            "type": "heatmapgl"
           }
          ],
          "histogram": [
           {
            "marker": {
             "colorbar": {
              "outlinewidth": 0,
              "ticks": ""
             }
            },
            "type": "histogram"
           }
          ],
          "histogram2d": [
           {
            "colorbar": {
             "outlinewidth": 0,
             "ticks": ""
            },
            "colorscale": [
             [
              0,
              "#0d0887"
             ],
             [
              0.1111111111111111,
              "#46039f"
             ],
             [
              0.2222222222222222,
              "#7201a8"
             ],
             [
              0.3333333333333333,
              "#9c179e"
             ],
             [
              0.4444444444444444,
              "#bd3786"
             ],
             [
              0.5555555555555556,
              "#d8576b"
             ],
             [
              0.6666666666666666,
              "#ed7953"
             ],
             [
              0.7777777777777778,
              "#fb9f3a"
             ],
             [
              0.8888888888888888,
              "#fdca26"
             ],
             [
              1,
              "#f0f921"
             ]
            ],
            "type": "histogram2d"
           }
          ],
          "histogram2dcontour": [
           {
            "colorbar": {
             "outlinewidth": 0,
             "ticks": ""
            },
            "colorscale": [
             [
              0,
              "#0d0887"
             ],
             [
              0.1111111111111111,
              "#46039f"
             ],
             [
              0.2222222222222222,
              "#7201a8"
             ],
             [
              0.3333333333333333,
              "#9c179e"
             ],
             [
              0.4444444444444444,
              "#bd3786"
             ],
             [
              0.5555555555555556,
              "#d8576b"
             ],
             [
              0.6666666666666666,
              "#ed7953"
             ],
             [
              0.7777777777777778,
              "#fb9f3a"
             ],
             [
              0.8888888888888888,
              "#fdca26"
             ],
             [
              1,
              "#f0f921"
             ]
            ],
            "type": "histogram2dcontour"
           }
          ],
          "mesh3d": [
           {
            "colorbar": {
             "outlinewidth": 0,
             "ticks": ""
            },
            "type": "mesh3d"
           }
          ],
          "parcoords": [
           {
            "line": {
             "colorbar": {
              "outlinewidth": 0,
              "ticks": ""
             }
            },
            "type": "parcoords"
           }
          ],
          "pie": [
           {
            "automargin": true,
            "type": "pie"
           }
          ],
          "scatter": [
           {
            "marker": {
             "colorbar": {
              "outlinewidth": 0,
              "ticks": ""
             }
            },
            "type": "scatter"
           }
          ],
          "scatter3d": [
           {
            "line": {
             "colorbar": {
              "outlinewidth": 0,
              "ticks": ""
             }
            },
            "marker": {
             "colorbar": {
              "outlinewidth": 0,
              "ticks": ""
             }
            },
            "type": "scatter3d"
           }
          ],
          "scattercarpet": [
           {
            "marker": {
             "colorbar": {
              "outlinewidth": 0,
              "ticks": ""
             }
            },
            "type": "scattercarpet"
           }
          ],
          "scattergeo": [
           {
            "marker": {
             "colorbar": {
              "outlinewidth": 0,
              "ticks": ""
             }
            },
            "type": "scattergeo"
           }
          ],
          "scattergl": [
           {
            "marker": {
             "colorbar": {
              "outlinewidth": 0,
              "ticks": ""
             }
            },
            "type": "scattergl"
           }
          ],
          "scattermapbox": [
           {
            "marker": {
             "colorbar": {
              "outlinewidth": 0,
              "ticks": ""
             }
            },
            "type": "scattermapbox"
           }
          ],
          "scatterpolar": [
           {
            "marker": {
             "colorbar": {
              "outlinewidth": 0,
              "ticks": ""
             }
            },
            "type": "scatterpolar"
           }
          ],
          "scatterpolargl": [
           {
            "marker": {
             "colorbar": {
              "outlinewidth": 0,
              "ticks": ""
             }
            },
            "type": "scatterpolargl"
           }
          ],
          "scatterternary": [
           {
            "marker": {
             "colorbar": {
              "outlinewidth": 0,
              "ticks": ""
             }
            },
            "type": "scatterternary"
           }
          ],
          "surface": [
           {
            "colorbar": {
             "outlinewidth": 0,
             "ticks": ""
            },
            "colorscale": [
             [
              0,
              "#0d0887"
             ],
             [
              0.1111111111111111,
              "#46039f"
             ],
             [
              0.2222222222222222,
              "#7201a8"
             ],
             [
              0.3333333333333333,
              "#9c179e"
             ],
             [
              0.4444444444444444,
              "#bd3786"
             ],
             [
              0.5555555555555556,
              "#d8576b"
             ],
             [
              0.6666666666666666,
              "#ed7953"
             ],
             [
              0.7777777777777778,
              "#fb9f3a"
             ],
             [
              0.8888888888888888,
              "#fdca26"
             ],
             [
              1,
              "#f0f921"
             ]
            ],
            "type": "surface"
           }
          ],
          "table": [
           {
            "cells": {
             "fill": {
              "color": "#EBF0F8"
             },
             "line": {
              "color": "white"
             }
            },
            "header": {
             "fill": {
              "color": "#C8D4E3"
             },
             "line": {
              "color": "white"
             }
            },
            "type": "table"
           }
          ]
         },
         "layout": {
          "annotationdefaults": {
           "arrowcolor": "#2a3f5f",
           "arrowhead": 0,
           "arrowwidth": 1
          },
          "coloraxis": {
           "colorbar": {
            "outlinewidth": 0,
            "ticks": ""
           }
          },
          "colorscale": {
           "diverging": [
            [
             0,
             "#8e0152"
            ],
            [
             0.1,
             "#c51b7d"
            ],
            [
             0.2,
             "#de77ae"
            ],
            [
             0.3,
             "#f1b6da"
            ],
            [
             0.4,
             "#fde0ef"
            ],
            [
             0.5,
             "#f7f7f7"
            ],
            [
             0.6,
             "#e6f5d0"
            ],
            [
             0.7,
             "#b8e186"
            ],
            [
             0.8,
             "#7fbc41"
            ],
            [
             0.9,
             "#4d9221"
            ],
            [
             1,
             "#276419"
            ]
           ],
           "sequential": [
            [
             0,
             "#0d0887"
            ],
            [
             0.1111111111111111,
             "#46039f"
            ],
            [
             0.2222222222222222,
             "#7201a8"
            ],
            [
             0.3333333333333333,
             "#9c179e"
            ],
            [
             0.4444444444444444,
             "#bd3786"
            ],
            [
             0.5555555555555556,
             "#d8576b"
            ],
            [
             0.6666666666666666,
             "#ed7953"
            ],
            [
             0.7777777777777778,
             "#fb9f3a"
            ],
            [
             0.8888888888888888,
             "#fdca26"
            ],
            [
             1,
             "#f0f921"
            ]
           ],
           "sequentialminus": [
            [
             0,
             "#0d0887"
            ],
            [
             0.1111111111111111,
             "#46039f"
            ],
            [
             0.2222222222222222,
             "#7201a8"
            ],
            [
             0.3333333333333333,
             "#9c179e"
            ],
            [
             0.4444444444444444,
             "#bd3786"
            ],
            [
             0.5555555555555556,
             "#d8576b"
            ],
            [
             0.6666666666666666,
             "#ed7953"
            ],
            [
             0.7777777777777778,
             "#fb9f3a"
            ],
            [
             0.8888888888888888,
             "#fdca26"
            ],
            [
             1,
             "#f0f921"
            ]
           ]
          },
          "colorway": [
           "#636efa",
           "#EF553B",
           "#00cc96",
           "#ab63fa",
           "#FFA15A",
           "#19d3f3",
           "#FF6692",
           "#B6E880",
           "#FF97FF",
           "#FECB52"
          ],
          "font": {
           "color": "#2a3f5f"
          },
          "geo": {
           "bgcolor": "white",
           "lakecolor": "white",
           "landcolor": "#E5ECF6",
           "showlakes": true,
           "showland": true,
           "subunitcolor": "white"
          },
          "hoverlabel": {
           "align": "left"
          },
          "hovermode": "closest",
          "mapbox": {
           "style": "light"
          },
          "paper_bgcolor": "white",
          "plot_bgcolor": "#E5ECF6",
          "polar": {
           "angularaxis": {
            "gridcolor": "white",
            "linecolor": "white",
            "ticks": ""
           },
           "bgcolor": "#E5ECF6",
           "radialaxis": {
            "gridcolor": "white",
            "linecolor": "white",
            "ticks": ""
           }
          },
          "scene": {
           "xaxis": {
            "backgroundcolor": "#E5ECF6",
            "gridcolor": "white",
            "gridwidth": 2,
            "linecolor": "white",
            "showbackground": true,
            "ticks": "",
            "zerolinecolor": "white"
           },
           "yaxis": {
            "backgroundcolor": "#E5ECF6",
            "gridcolor": "white",
            "gridwidth": 2,
            "linecolor": "white",
            "showbackground": true,
            "ticks": "",
            "zerolinecolor": "white"
           },
           "zaxis": {
            "backgroundcolor": "#E5ECF6",
            "gridcolor": "white",
            "gridwidth": 2,
            "linecolor": "white",
            "showbackground": true,
            "ticks": "",
            "zerolinecolor": "white"
           }
          },
          "shapedefaults": {
           "line": {
            "color": "#2a3f5f"
           }
          },
          "ternary": {
           "aaxis": {
            "gridcolor": "white",
            "linecolor": "white",
            "ticks": ""
           },
           "baxis": {
            "gridcolor": "white",
            "linecolor": "white",
            "ticks": ""
           },
           "bgcolor": "#E5ECF6",
           "caxis": {
            "gridcolor": "white",
            "linecolor": "white",
            "ticks": ""
           }
          },
          "title": {
           "x": 0.05
          },
          "xaxis": {
           "automargin": true,
           "gridcolor": "white",
           "linecolor": "white",
           "ticks": "",
           "title": {
            "standoff": 15
           },
           "zerolinecolor": "white",
           "zerolinewidth": 2
          },
          "yaxis": {
           "automargin": true,
           "gridcolor": "white",
           "linecolor": "white",
           "ticks": "",
           "title": {
            "standoff": 15
           },
           "zerolinecolor": "white",
           "zerolinewidth": 2
          }
         }
        },
        "title": {
         "text": "results_statevector_BK"
        },
        "xaxis": {
         "anchor": "y",
         "domain": [
          0,
          1
         ],
         "title": {
          "text": "distance"
         }
        },
        "yaxis": {
         "anchor": "x",
         "domain": [
          0,
          1
         ],
         "title": {
          "text": "value"
         }
        }
       }
      },
      "text/html": [
       "<div>\n",
       "        \n",
       "        \n",
       "            <div id=\"4ab8e9d2-5286-41ab-b8b9-4d0831afb652\" class=\"plotly-graph-div\" style=\"height:525px; width:100%;\"></div>\n",
       "            <script type=\"text/javascript\">\n",
       "                require([\"plotly\"], function(Plotly) {\n",
       "                    window.PLOTLYENV=window.PLOTLYENV || {};\n",
       "                    \n",
       "                if (document.getElementById(\"4ab8e9d2-5286-41ab-b8b9-4d0831afb652\")) {\n",
       "                    Plotly.newPlot(\n",
       "                        '4ab8e9d2-5286-41ab-b8b9-4d0831afb652',\n",
       "                        [{\"hovertemplate\": \"opt=COBYLA<br>distance=%{x}<br>value=%{y}<extra></extra>\", \"legendgroup\": \"COBYLA\", \"line\": {\"color\": \"#636efa\", \"dash\": \"solid\"}, \"mode\": \"lines\", \"name\": \"COBYLA\", \"orientation\": \"v\", \"showlegend\": true, \"type\": \"scatter\", \"x\": [0.5, 0.6, 0.7, 0.7999999999999999, 0.8999999999999999, 0.9999999999999999, 1.0999999999999999, 1.1999999999999997, 1.2999999999999998, 1.4, 1.4999999999999998, 1.5999999999999996, 1.6999999999999997, 1.7999999999999998, 1.8999999999999997, 1.9999999999999996, 2.0999999999999996, 2.1999999999999997, 2.3, 2.3999999999999995, 2.4999999999999996, 2.5999999999999996, 2.6999999999999993, 2.7999999999999994, 2.8999999999999995, 2.9999999999999996, 3.0999999999999996, 3.1999999999999993, 3.2999999999999994, 3.3999999999999995, 3.499999999999999, 3.599999999999999, 3.6999999999999993, 3.7999999999999994, 3.8999999999999995], \"xaxis\": \"x\", \"y\": [-6.562857583313609, -6.896360300269886, -7.103061992461381, -7.230311094524696, -7.308030276698457, -7.357028564163363, -7.391357334981069, -7.419779617215504, -7.446653189639095, -7.473337571443238, -7.499910821911619, -7.525597914670952, -7.549756336777536, -7.571807165156799, -7.591390259579732, -7.6083333090799, -7.622728174535236, -7.634665609014947, -7.644096289000461, -7.65123106445285, -7.6562278263679175, -7.659160279742999, -7.6601637876806, -7.65934756801752, -7.656846851737099, -7.65281661756044, -7.647451054625515, -7.640985318328972, -7.633695125245797, -7.625824205319234, -7.617632274447291, -7.609337981854851, -7.601118245579194, -7.593106761097904, -7.585406487050708], \"yaxis\": \"y\"}, {\"hovertemplate\": \"opt=L_BFGS_B<br>distance=%{x}<br>value=%{y}<extra></extra>\", \"legendgroup\": \"L_BFGS_B\", \"line\": {\"color\": \"#EF553B\", \"dash\": \"solid\"}, \"mode\": \"lines\", \"name\": \"L_BFGS_B\", \"orientation\": \"v\", \"showlegend\": true, \"type\": \"scatter\", \"x\": [0.5, 0.6, 0.7, 0.7999999999999999, 0.8999999999999999, 0.9999999999999999, 1.0999999999999999, 1.1999999999999997, 1.2999999999999998, 1.4, 1.4999999999999998, 1.5999999999999996, 1.6999999999999997, 1.7999999999999998, 1.8999999999999997, 1.9999999999999996, 2.0999999999999996, 2.1999999999999997, 2.3, 2.3999999999999995, 2.4999999999999996, 2.5999999999999996, 2.6999999999999993, 2.7999999999999994, 2.8999999999999995, 2.9999999999999996, 3.0999999999999996, 3.1999999999999993, 3.2999999999999994, 3.3999999999999995, 3.499999999999999, 3.599999999999999, 3.6999999999999993, 3.7999999999999994, 3.8999999999999995], \"xaxis\": \"x\", \"y\": [-6.562984329983586, -6.896429471587388, -7.103173229375449, -7.2304026138287405, -7.308111482695104, -7.357072547460131, -7.391457100268279, -7.419902948099487, -7.446739773358065, -7.473449689609575, -7.49997927399795, -7.525676731036834, -7.5498221278303435, -7.571859141608579, -7.591449020872955, -7.60844297617717, -7.622828991180899, -7.634679566277197, -7.644110190194133, -7.651250641582011, -7.656228325790563, -7.659162008082501, -7.660164111577013, -7.65934953189323, -7.656848452733227, -7.652818756896986, -7.647457239202909, -7.640996246837182, -7.633696116492635, -7.625824206603286, -7.617632190296709, -7.609337982275837, -7.601118424484183, -7.593108025690988, -7.585407547929926], \"yaxis\": \"y\"}, {\"hovertemplate\": \"opt=SLSQP<br>distance=%{x}<br>value=%{y}<extra></extra>\", \"legendgroup\": \"SLSQP\", \"line\": {\"color\": \"#00cc96\", \"dash\": \"solid\"}, \"mode\": \"lines\", \"name\": \"SLSQP\", \"orientation\": \"v\", \"showlegend\": true, \"type\": \"scatter\", \"x\": [0.5, 0.6, 0.7, 0.7999999999999999, 0.8999999999999999, 0.9999999999999999, 1.0999999999999999, 1.1999999999999997, 1.2999999999999998, 1.4, 1.4999999999999998, 1.5999999999999996, 1.6999999999999997, 1.7999999999999998, 1.8999999999999997, 1.9999999999999996, 2.0999999999999996, 2.1999999999999997, 2.3, 2.3999999999999995, 2.4999999999999996, 2.5999999999999996, 2.6999999999999993, 2.7999999999999994, 2.8999999999999995, 2.9999999999999996, 3.0999999999999996, 3.1999999999999993, 3.2999999999999994, 3.3999999999999995, 3.499999999999999, 3.599999999999999, 3.6999999999999993, 3.7999999999999994, 3.8999999999999995], \"xaxis\": \"x\", \"y\": [-6.5629542275763875, -6.896406785371995, -7.103151362894871, -7.230379595673246, -7.3080869455720645, -7.357047104713638, -7.391431809473869, -7.419878840034896, -7.446717578039365, -7.473429767113989, -7.499961669464021, -7.525661286794816, -7.549808591609439, -7.571847241668411, -7.591438989679721, -7.608434122689244, -7.622820988219078, -7.634672944596665, -7.644104460123033, -7.651245576410113, -7.656224378896856, -7.659158890661253, -7.6601617546365475, -7.659347752537108, -7.65684750800223, -7.652818725989868, -7.647427508985444, -7.640985102618257, -7.633693813173516, -7.625824206570619, -7.617632190230358, -7.609337978981461, -7.6011168436417895, -7.59309777603748, -7.585376406023189], \"yaxis\": \"y\"}, {\"hovertemplate\": \"opt=SPSA<br>distance=%{x}<br>value=%{y}<extra></extra>\", \"legendgroup\": \"SPSA\", \"line\": {\"color\": \"#ab63fa\", \"dash\": \"solid\"}, \"mode\": \"lines\", \"name\": \"SPSA\", \"orientation\": \"v\", \"showlegend\": true, \"type\": \"scatter\", \"x\": [0.5, 0.6, 0.7, 0.7999999999999999, 0.8999999999999999, 0.9999999999999999, 1.0999999999999999, 1.1999999999999997, 1.2999999999999998, 1.4, 1.4999999999999998, 1.5999999999999996, 1.6999999999999997, 1.7999999999999998, 1.8999999999999997, 1.9999999999999996, 2.0999999999999996, 2.1999999999999997, 2.3, 2.3999999999999995, 2.4999999999999996, 2.5999999999999996, 2.6999999999999993, 2.7999999999999994, 2.8999999999999995, 2.9999999999999996, 3.0999999999999996, 3.1999999999999993, 3.2999999999999994, 3.3999999999999995, 3.499999999999999, 3.599999999999999, 3.6999999999999993, 3.7999999999999994, 3.8999999999999995], \"xaxis\": \"x\", \"y\": [-6.562248757247339, -6.896595138963036, -6.785366580060497, -6.986296550738151, -6.868311188355423, -7.2040515160128535, -7.27001145502838, -7.0564886296718194, -7.290867667576769, -7.227950847876303, -7.266308512002443, -7.431730699181803, -7.20304831639115, -7.438972104340358, -7.5280820093245255, -7.594130083637238, -7.589789596446865, -7.546085476275849, -7.287151258341171, -7.471880302451477, -7.606970380854416, -7.64728157196028, -7.077604976506023, -7.14681268066348, -7.649084460961239, -7.649713524062866, -7.1317187499881785, -7.602172198059945, -7.489378328387486, -7.560947421411258, -7.2198435381071295, -7.21681487639059, -7.558594693487764, -7.3788958720840645, -7.129863777437588], \"yaxis\": \"y\"}],\n",
       "                        {\"legend\": {\"title\": {\"text\": \"opt\"}, \"tracegroupgap\": 0}, \"template\": {\"data\": {\"bar\": [{\"error_x\": {\"color\": \"#2a3f5f\"}, \"error_y\": {\"color\": \"#2a3f5f\"}, \"marker\": {\"line\": {\"color\": \"#E5ECF6\", \"width\": 0.5}}, \"type\": \"bar\"}], \"barpolar\": [{\"marker\": {\"line\": {\"color\": \"#E5ECF6\", \"width\": 0.5}}, \"type\": \"barpolar\"}], \"carpet\": [{\"aaxis\": {\"endlinecolor\": \"#2a3f5f\", \"gridcolor\": \"white\", \"linecolor\": \"white\", \"minorgridcolor\": \"white\", \"startlinecolor\": \"#2a3f5f\"}, \"baxis\": {\"endlinecolor\": \"#2a3f5f\", \"gridcolor\": \"white\", \"linecolor\": \"white\", \"minorgridcolor\": \"white\", \"startlinecolor\": \"#2a3f5f\"}, \"type\": \"carpet\"}], \"choropleth\": [{\"colorbar\": {\"outlinewidth\": 0, \"ticks\": \"\"}, \"type\": \"choropleth\"}], \"contour\": [{\"colorbar\": {\"outlinewidth\": 0, \"ticks\": \"\"}, \"colorscale\": [[0.0, \"#0d0887\"], [0.1111111111111111, \"#46039f\"], [0.2222222222222222, \"#7201a8\"], [0.3333333333333333, \"#9c179e\"], [0.4444444444444444, \"#bd3786\"], [0.5555555555555556, \"#d8576b\"], [0.6666666666666666, \"#ed7953\"], [0.7777777777777778, \"#fb9f3a\"], [0.8888888888888888, \"#fdca26\"], [1.0, \"#f0f921\"]], \"type\": \"contour\"}], \"contourcarpet\": [{\"colorbar\": {\"outlinewidth\": 0, \"ticks\": \"\"}, \"type\": \"contourcarpet\"}], \"heatmap\": [{\"colorbar\": {\"outlinewidth\": 0, \"ticks\": \"\"}, \"colorscale\": [[0.0, \"#0d0887\"], [0.1111111111111111, \"#46039f\"], [0.2222222222222222, \"#7201a8\"], [0.3333333333333333, \"#9c179e\"], [0.4444444444444444, \"#bd3786\"], [0.5555555555555556, \"#d8576b\"], [0.6666666666666666, \"#ed7953\"], [0.7777777777777778, \"#fb9f3a\"], [0.8888888888888888, \"#fdca26\"], [1.0, \"#f0f921\"]], \"type\": \"heatmap\"}], \"heatmapgl\": [{\"colorbar\": {\"outlinewidth\": 0, \"ticks\": \"\"}, \"colorscale\": [[0.0, \"#0d0887\"], [0.1111111111111111, \"#46039f\"], [0.2222222222222222, \"#7201a8\"], [0.3333333333333333, \"#9c179e\"], [0.4444444444444444, \"#bd3786\"], [0.5555555555555556, \"#d8576b\"], [0.6666666666666666, \"#ed7953\"], [0.7777777777777778, \"#fb9f3a\"], [0.8888888888888888, \"#fdca26\"], [1.0, \"#f0f921\"]], \"type\": \"heatmapgl\"}], \"histogram\": [{\"marker\": {\"colorbar\": {\"outlinewidth\": 0, \"ticks\": \"\"}}, \"type\": \"histogram\"}], \"histogram2d\": [{\"colorbar\": {\"outlinewidth\": 0, \"ticks\": \"\"}, \"colorscale\": [[0.0, \"#0d0887\"], [0.1111111111111111, \"#46039f\"], [0.2222222222222222, \"#7201a8\"], [0.3333333333333333, \"#9c179e\"], [0.4444444444444444, \"#bd3786\"], [0.5555555555555556, \"#d8576b\"], [0.6666666666666666, \"#ed7953\"], [0.7777777777777778, \"#fb9f3a\"], [0.8888888888888888, \"#fdca26\"], [1.0, \"#f0f921\"]], \"type\": \"histogram2d\"}], \"histogram2dcontour\": [{\"colorbar\": {\"outlinewidth\": 0, \"ticks\": \"\"}, \"colorscale\": [[0.0, \"#0d0887\"], [0.1111111111111111, \"#46039f\"], [0.2222222222222222, \"#7201a8\"], [0.3333333333333333, \"#9c179e\"], [0.4444444444444444, \"#bd3786\"], [0.5555555555555556, \"#d8576b\"], [0.6666666666666666, \"#ed7953\"], [0.7777777777777778, \"#fb9f3a\"], [0.8888888888888888, \"#fdca26\"], [1.0, \"#f0f921\"]], \"type\": \"histogram2dcontour\"}], \"mesh3d\": [{\"colorbar\": {\"outlinewidth\": 0, \"ticks\": \"\"}, \"type\": \"mesh3d\"}], \"parcoords\": [{\"line\": {\"colorbar\": {\"outlinewidth\": 0, \"ticks\": \"\"}}, \"type\": \"parcoords\"}], \"pie\": [{\"automargin\": true, \"type\": \"pie\"}], \"scatter\": [{\"marker\": {\"colorbar\": {\"outlinewidth\": 0, \"ticks\": \"\"}}, \"type\": \"scatter\"}], \"scatter3d\": [{\"line\": {\"colorbar\": {\"outlinewidth\": 0, \"ticks\": \"\"}}, \"marker\": {\"colorbar\": {\"outlinewidth\": 0, \"ticks\": \"\"}}, \"type\": \"scatter3d\"}], \"scattercarpet\": [{\"marker\": {\"colorbar\": {\"outlinewidth\": 0, \"ticks\": \"\"}}, \"type\": \"scattercarpet\"}], \"scattergeo\": [{\"marker\": {\"colorbar\": {\"outlinewidth\": 0, \"ticks\": \"\"}}, \"type\": \"scattergeo\"}], \"scattergl\": [{\"marker\": {\"colorbar\": {\"outlinewidth\": 0, \"ticks\": \"\"}}, \"type\": \"scattergl\"}], \"scattermapbox\": [{\"marker\": {\"colorbar\": {\"outlinewidth\": 0, \"ticks\": \"\"}}, \"type\": \"scattermapbox\"}], \"scatterpolar\": [{\"marker\": {\"colorbar\": {\"outlinewidth\": 0, \"ticks\": \"\"}}, \"type\": \"scatterpolar\"}], \"scatterpolargl\": [{\"marker\": {\"colorbar\": {\"outlinewidth\": 0, \"ticks\": \"\"}}, \"type\": \"scatterpolargl\"}], \"scatterternary\": [{\"marker\": {\"colorbar\": {\"outlinewidth\": 0, \"ticks\": \"\"}}, \"type\": \"scatterternary\"}], \"surface\": [{\"colorbar\": {\"outlinewidth\": 0, \"ticks\": \"\"}, \"colorscale\": [[0.0, \"#0d0887\"], [0.1111111111111111, \"#46039f\"], [0.2222222222222222, \"#7201a8\"], [0.3333333333333333, \"#9c179e\"], [0.4444444444444444, \"#bd3786\"], [0.5555555555555556, \"#d8576b\"], [0.6666666666666666, \"#ed7953\"], [0.7777777777777778, \"#fb9f3a\"], [0.8888888888888888, \"#fdca26\"], [1.0, \"#f0f921\"]], \"type\": \"surface\"}], \"table\": [{\"cells\": {\"fill\": {\"color\": \"#EBF0F8\"}, \"line\": {\"color\": \"white\"}}, \"header\": {\"fill\": {\"color\": \"#C8D4E3\"}, \"line\": {\"color\": \"white\"}}, \"type\": \"table\"}]}, \"layout\": {\"annotationdefaults\": {\"arrowcolor\": \"#2a3f5f\", \"arrowhead\": 0, \"arrowwidth\": 1}, \"coloraxis\": {\"colorbar\": {\"outlinewidth\": 0, \"ticks\": \"\"}}, \"colorscale\": {\"diverging\": [[0, \"#8e0152\"], [0.1, \"#c51b7d\"], [0.2, \"#de77ae\"], [0.3, \"#f1b6da\"], [0.4, \"#fde0ef\"], [0.5, \"#f7f7f7\"], [0.6, \"#e6f5d0\"], [0.7, \"#b8e186\"], [0.8, \"#7fbc41\"], [0.9, \"#4d9221\"], [1, \"#276419\"]], \"sequential\": [[0.0, \"#0d0887\"], [0.1111111111111111, \"#46039f\"], [0.2222222222222222, \"#7201a8\"], [0.3333333333333333, \"#9c179e\"], [0.4444444444444444, \"#bd3786\"], [0.5555555555555556, \"#d8576b\"], [0.6666666666666666, \"#ed7953\"], [0.7777777777777778, \"#fb9f3a\"], [0.8888888888888888, \"#fdca26\"], [1.0, \"#f0f921\"]], \"sequentialminus\": [[0.0, \"#0d0887\"], [0.1111111111111111, \"#46039f\"], [0.2222222222222222, \"#7201a8\"], [0.3333333333333333, \"#9c179e\"], [0.4444444444444444, \"#bd3786\"], [0.5555555555555556, \"#d8576b\"], [0.6666666666666666, \"#ed7953\"], [0.7777777777777778, \"#fb9f3a\"], [0.8888888888888888, \"#fdca26\"], [1.0, \"#f0f921\"]]}, \"colorway\": [\"#636efa\", \"#EF553B\", \"#00cc96\", \"#ab63fa\", \"#FFA15A\", \"#19d3f3\", \"#FF6692\", \"#B6E880\", \"#FF97FF\", \"#FECB52\"], \"font\": {\"color\": \"#2a3f5f\"}, \"geo\": {\"bgcolor\": \"white\", \"lakecolor\": \"white\", \"landcolor\": \"#E5ECF6\", \"showlakes\": true, \"showland\": true, \"subunitcolor\": \"white\"}, \"hoverlabel\": {\"align\": \"left\"}, \"hovermode\": \"closest\", \"mapbox\": {\"style\": \"light\"}, \"paper_bgcolor\": \"white\", \"plot_bgcolor\": \"#E5ECF6\", \"polar\": {\"angularaxis\": {\"gridcolor\": \"white\", \"linecolor\": \"white\", \"ticks\": \"\"}, \"bgcolor\": \"#E5ECF6\", \"radialaxis\": {\"gridcolor\": \"white\", \"linecolor\": \"white\", \"ticks\": \"\"}}, \"scene\": {\"xaxis\": {\"backgroundcolor\": \"#E5ECF6\", \"gridcolor\": \"white\", \"gridwidth\": 2, \"linecolor\": \"white\", \"showbackground\": true, \"ticks\": \"\", \"zerolinecolor\": \"white\"}, \"yaxis\": {\"backgroundcolor\": \"#E5ECF6\", \"gridcolor\": \"white\", \"gridwidth\": 2, \"linecolor\": \"white\", \"showbackground\": true, \"ticks\": \"\", \"zerolinecolor\": \"white\"}, \"zaxis\": {\"backgroundcolor\": \"#E5ECF6\", \"gridcolor\": \"white\", \"gridwidth\": 2, \"linecolor\": \"white\", \"showbackground\": true, \"ticks\": \"\", \"zerolinecolor\": \"white\"}}, \"shapedefaults\": {\"line\": {\"color\": \"#2a3f5f\"}}, \"ternary\": {\"aaxis\": {\"gridcolor\": \"white\", \"linecolor\": \"white\", \"ticks\": \"\"}, \"baxis\": {\"gridcolor\": \"white\", \"linecolor\": \"white\", \"ticks\": \"\"}, \"bgcolor\": \"#E5ECF6\", \"caxis\": {\"gridcolor\": \"white\", \"linecolor\": \"white\", \"ticks\": \"\"}}, \"title\": {\"x\": 0.05}, \"xaxis\": {\"automargin\": true, \"gridcolor\": \"white\", \"linecolor\": \"white\", \"ticks\": \"\", \"title\": {\"standoff\": 15}, \"zerolinecolor\": \"white\", \"zerolinewidth\": 2}, \"yaxis\": {\"automargin\": true, \"gridcolor\": \"white\", \"linecolor\": \"white\", \"ticks\": \"\", \"title\": {\"standoff\": 15}, \"zerolinecolor\": \"white\", \"zerolinewidth\": 2}}}, \"title\": {\"text\": \"results_statevector_BK\"}, \"xaxis\": {\"anchor\": \"y\", \"domain\": [0.0, 1.0], \"title\": {\"text\": \"distance\"}}, \"yaxis\": {\"anchor\": \"x\", \"domain\": [0.0, 1.0], \"title\": {\"text\": \"value\"}}},\n",
       "                        {\"responsive\": true}\n",
       "                    ).then(function(){\n",
       "                            \n",
       "var gd = document.getElementById('4ab8e9d2-5286-41ab-b8b9-4d0831afb652');\n",
       "var x = new MutationObserver(function (mutations, observer) {{\n",
       "        var display = window.getComputedStyle(gd).display;\n",
       "        if (!display || display === 'none') {{\n",
       "            console.log([gd, 'removed!']);\n",
       "            Plotly.purge(gd);\n",
       "            observer.disconnect();\n",
       "        }}\n",
       "}});\n",
       "\n",
       "// Listen for the removal of the full notebook cells\n",
       "var notebookContainer = gd.closest('#notebook-container');\n",
       "if (notebookContainer) {{\n",
       "    x.observe(notebookContainer, {childList: true});\n",
       "}}\n",
       "\n",
       "// Listen for the clearing of the current output cell\n",
       "var outputEl = gd.closest('.output');\n",
       "if (outputEl) {{\n",
       "    x.observe(outputEl, {childList: true});\n",
       "}}\n",
       "\n",
       "                        })\n",
       "                };\n",
       "                });\n",
       "            </script>\n",
       "        </div>"
      ]
     },
     "metadata": {},
     "output_type": "display_data"
    },
    {
     "data": {
      "application/vnd.plotly.v1+json": {
       "config": {
        "plotlyServerURL": "https://plot.ly"
       },
       "data": [
        {
         "hovertemplate": "opt=COBYLA<br>distance=%{x}<br>value=%{y}<extra></extra>",
         "legendgroup": "COBYLA",
         "line": {
          "color": "#636efa",
          "dash": "solid"
         },
         "mode": "lines",
         "name": "COBYLA",
         "orientation": "v",
         "showlegend": true,
         "type": "scatter",
         "x": [
          0.5,
          0.6,
          0.7,
          0.7999999999999999,
          0.8999999999999999,
          0.9999999999999999,
          1.0999999999999999,
          1.1999999999999997,
          1.2999999999999998,
          1.4,
          1.4999999999999998,
          1.5999999999999996,
          1.6999999999999997,
          1.7999999999999998,
          1.8999999999999997,
          1.9999999999999996,
          2.0999999999999996,
          2.1999999999999997,
          2.3,
          2.3999999999999995,
          2.4999999999999996,
          2.5999999999999996,
          2.6999999999999993,
          2.7999999999999994,
          2.8999999999999995,
          2.9999999999999996,
          3.0999999999999996,
          3.1999999999999993,
          3.2999999999999994,
          3.3999999999999995,
          3.499999999999999,
          3.599999999999999,
          3.6999999999999993,
          3.7999999999999994,
          3.8999999999999995
         ],
         "xaxis": "x",
         "y": [
          -6.507171429544078,
          -6.832712966510254,
          -7.034470971022653,
          -7.156103438728605,
          -7.238042580447203,
          -7.2827880840315995,
          -7.316819538623189,
          -7.39427025816684,
          -7.361615829535425,
          -7.432944939291859,
          -7.411129048222075,
          -7.488911921817394,
          -7.4754499730943405,
          -7.496428828499279,
          -7.548377013249575,
          -7.497692665083901,
          -7.5147610371992055,
          -7.526975762144473,
          -7.537613328770349,
          -7.543998305176822,
          -7.549339726129509,
          -7.552279598655099,
          -7.553417612091766,
          -7.552208681125591,
          -7.548474097959896,
          -7.544800088545323,
          -7.5395879584201975,
          -7.544604679388108,
          -7.530300948287624,
          -7.553911935270139,
          -7.590664020814718,
          -7.586424580287936,
          -7.578202678489687,
          -7.570411453977083,
          -7.571127020037441
         ],
         "yaxis": "y"
        },
        {
         "hovertemplate": "opt=L_BFGS_B<br>distance=%{x}<br>value=%{y}<extra></extra>",
         "legendgroup": "L_BFGS_B",
         "line": {
          "color": "#EF553B",
          "dash": "solid"
         },
         "mode": "lines",
         "name": "L_BFGS_B",
         "orientation": "v",
         "showlegend": true,
         "type": "scatter",
         "x": [
          0.5,
          0.6,
          0.7,
          0.7999999999999999,
          0.8999999999999999,
          0.9999999999999999,
          1.0999999999999999,
          1.1999999999999997,
          1.2999999999999998,
          1.4,
          1.4999999999999998,
          1.5999999999999996,
          1.6999999999999997,
          1.7999999999999998,
          1.8999999999999997,
          1.9999999999999996,
          2.0999999999999996,
          2.1999999999999997,
          2.3,
          2.3999999999999995,
          2.4999999999999996,
          2.5999999999999996,
          2.6999999999999993,
          2.7999999999999994,
          2.8999999999999995,
          2.9999999999999996,
          3.0999999999999996,
          3.1999999999999993,
          3.2999999999999994,
          3.3999999999999995,
          3.499999999999999,
          3.599999999999999,
          3.6999999999999993,
          3.7999999999999994,
          3.8999999999999995
         ],
         "xaxis": "x",
         "y": [
          -6.552836808273033,
          -6.885181879765755,
          -7.092592917402813,
          -7.220657902415474,
          -7.298877708143786,
          -7.347929964914736,
          -7.382045537533721,
          -7.409962966194896,
          -7.436104767397327,
          -7.46202337360869,
          -7.487714113009351,
          -7.512557921862974,
          -7.535857146652067,
          -7.55707099669658,
          -7.590630504442116,
          -7.607115280965337,
          -7.605805923048807,
          -7.617010541418093,
          -7.62585193533191,
          -7.632462716669977,
          -7.636969642023354,
          -7.610289366053621,
          -7.631869401637477,
          -7.632606285383219,
          -7.631531665223697,
          -7.628767162349426,
          -7.624486338282518,
          -7.6189279252828985,
          -7.612396161975006,
          -7.602818370584743,
          -7.594911928605698,
          -7.546928533014562,
          -7.583510094468503,
          -7.570411466190747,
          -7.563149035980974
         ],
         "yaxis": "y"
        },
        {
         "hovertemplate": "opt=SLSQP<br>distance=%{x}<br>value=%{y}<extra></extra>",
         "legendgroup": "SLSQP",
         "line": {
          "color": "#00cc96",
          "dash": "solid"
         },
         "mode": "lines",
         "name": "SLSQP",
         "orientation": "v",
         "showlegend": true,
         "type": "scatter",
         "x": [
          0.5,
          0.6,
          0.7,
          0.7999999999999999,
          0.8999999999999999,
          0.9999999999999999,
          1.0999999999999999,
          1.1999999999999997,
          1.2999999999999998,
          1.4,
          1.4999999999999998,
          1.5999999999999996,
          1.6999999999999997,
          1.7999999999999998,
          1.8999999999999997,
          1.9999999999999996,
          2.0999999999999996,
          2.1999999999999997,
          2.3,
          2.3999999999999995,
          2.4999999999999996,
          2.5999999999999996,
          2.6999999999999993,
          2.7999999999999994,
          2.8999999999999995,
          2.9999999999999996,
          3.0999999999999996,
          3.1999999999999993,
          3.2999999999999994,
          3.3999999999999995,
          3.499999999999999,
          3.599999999999999,
          3.6999999999999993,
          3.7999999999999994,
          3.8999999999999995
         ],
         "xaxis": "x",
         "y": [
          -6.552836686471684,
          -6.8851816566167745,
          -7.092592366894961,
          -7.220657864462265,
          -7.298877706119992,
          -7.347929935457648,
          -7.382045275965039,
          -7.4099629584808255,
          -7.436104601731789,
          -7.4620229415478985,
          -7.487714112272768,
          -7.512557904818642,
          -7.535857094046774,
          -7.557070870890096,
          -7.5758716005980204,
          -7.592118352803147,
          -7.6058059109822995,
          -7.617010540719489,
          -7.625851933260881,
          -7.544025998405911,
          -7.549339363973607,
          -7.552259433080397,
          -7.552836048076854,
          -7.632606252092089,
          -7.631531621303001,
          -7.628767157989886,
          -7.624486204722068,
          -7.618927923184235,
          -7.612395968834605,
          -7.605243194492378,
          -7.597833984047398,
          -7.586424527201758,
          -7.583509943536592,
          -7.570411308626868,
          -7.469827566721084
         ],
         "yaxis": "y"
        },
        {
         "hovertemplate": "opt=SPSA<br>distance=%{x}<br>value=%{y}<extra></extra>",
         "legendgroup": "SPSA",
         "line": {
          "color": "#ab63fa",
          "dash": "solid"
         },
         "mode": "lines",
         "name": "SPSA",
         "orientation": "v",
         "showlegend": true,
         "type": "scatter",
         "x": [
          0.5,
          0.6,
          0.7,
          0.7999999999999999,
          0.8999999999999999,
          0.9999999999999999,
          1.0999999999999999,
          1.1999999999999997,
          1.2999999999999998,
          1.4,
          1.4999999999999998,
          1.5999999999999996,
          1.6999999999999997,
          1.7999999999999998,
          1.8999999999999997,
          1.9999999999999996,
          2.0999999999999996,
          2.1999999999999997,
          2.3,
          2.3999999999999995,
          2.4999999999999996,
          2.5999999999999996,
          2.6999999999999993,
          2.7999999999999994,
          2.8999999999999995,
          2.9999999999999996,
          3.0999999999999996,
          3.1999999999999993,
          3.2999999999999994,
          3.3999999999999995,
          3.499999999999999,
          3.599999999999999,
          3.6999999999999993,
          3.7999999999999994,
          3.8999999999999995
         ],
         "xaxis": "x",
         "y": [
          -6.5074981072301386,
          -6.86133123168059,
          -6.865860073684333,
          -7.003079248113701,
          -7.1297319311568765,
          -7.265587404434497,
          -7.162894661732489,
          -7.201880061673302,
          -7.176158654769795,
          -7.104747958135724,
          -7.270558175393694,
          -7.3404360029868565,
          -7.274033134062392,
          -7.271474816231817,
          -7.316664539799243,
          -7.460634332412856,
          -7.384383520587888,
          -7.508685108664627,
          -7.554055014217739,
          -7.428269716504468,
          -7.383072008039643,
          -7.433527014941057,
          -7.366927204070768,
          -7.460900579325121,
          -7.537780855191067,
          -7.518154945848718,
          -7.395941237414549,
          -7.514872160680948,
          -7.479320778050075,
          -7.349226036769618,
          -7.4766854494134884,
          -7.363896387706751,
          -7.41144697800146,
          -7.433791372895962,
          -7.374622110825401
         ],
         "yaxis": "y"
        }
       ],
       "layout": {
        "legend": {
         "title": {
          "text": "opt"
         },
         "tracegroupgap": 0
        },
        "template": {
         "data": {
          "bar": [
           {
            "error_x": {
             "color": "#2a3f5f"
            },
            "error_y": {
             "color": "#2a3f5f"
            },
            "marker": {
             "line": {
              "color": "#E5ECF6",
              "width": 0.5
             }
            },
            "type": "bar"
           }
          ],
          "barpolar": [
           {
            "marker": {
             "line": {
              "color": "#E5ECF6",
              "width": 0.5
             }
            },
            "type": "barpolar"
           }
          ],
          "carpet": [
           {
            "aaxis": {
             "endlinecolor": "#2a3f5f",
             "gridcolor": "white",
             "linecolor": "white",
             "minorgridcolor": "white",
             "startlinecolor": "#2a3f5f"
            },
            "baxis": {
             "endlinecolor": "#2a3f5f",
             "gridcolor": "white",
             "linecolor": "white",
             "minorgridcolor": "white",
             "startlinecolor": "#2a3f5f"
            },
            "type": "carpet"
           }
          ],
          "choropleth": [
           {
            "colorbar": {
             "outlinewidth": 0,
             "ticks": ""
            },
            "type": "choropleth"
           }
          ],
          "contour": [
           {
            "colorbar": {
             "outlinewidth": 0,
             "ticks": ""
            },
            "colorscale": [
             [
              0,
              "#0d0887"
             ],
             [
              0.1111111111111111,
              "#46039f"
             ],
             [
              0.2222222222222222,
              "#7201a8"
             ],
             [
              0.3333333333333333,
              "#9c179e"
             ],
             [
              0.4444444444444444,
              "#bd3786"
             ],
             [
              0.5555555555555556,
              "#d8576b"
             ],
             [
              0.6666666666666666,
              "#ed7953"
             ],
             [
              0.7777777777777778,
              "#fb9f3a"
             ],
             [
              0.8888888888888888,
              "#fdca26"
             ],
             [
              1,
              "#f0f921"
             ]
            ],
            "type": "contour"
           }
          ],
          "contourcarpet": [
           {
            "colorbar": {
             "outlinewidth": 0,
             "ticks": ""
            },
            "type": "contourcarpet"
           }
          ],
          "heatmap": [
           {
            "colorbar": {
             "outlinewidth": 0,
             "ticks": ""
            },
            "colorscale": [
             [
              0,
              "#0d0887"
             ],
             [
              0.1111111111111111,
              "#46039f"
             ],
             [
              0.2222222222222222,
              "#7201a8"
             ],
             [
              0.3333333333333333,
              "#9c179e"
             ],
             [
              0.4444444444444444,
              "#bd3786"
             ],
             [
              0.5555555555555556,
              "#d8576b"
             ],
             [
              0.6666666666666666,
              "#ed7953"
             ],
             [
              0.7777777777777778,
              "#fb9f3a"
             ],
             [
              0.8888888888888888,
              "#fdca26"
             ],
             [
              1,
              "#f0f921"
             ]
            ],
            "type": "heatmap"
           }
          ],
          "heatmapgl": [
           {
            "colorbar": {
             "outlinewidth": 0,
             "ticks": ""
            },
            "colorscale": [
             [
              0,
              "#0d0887"
             ],
             [
              0.1111111111111111,
              "#46039f"
             ],
             [
              0.2222222222222222,
              "#7201a8"
             ],
             [
              0.3333333333333333,
              "#9c179e"
             ],
             [
              0.4444444444444444,
              "#bd3786"
             ],
             [
              0.5555555555555556,
              "#d8576b"
             ],
             [
              0.6666666666666666,
              "#ed7953"
             ],
             [
              0.7777777777777778,
              "#fb9f3a"
             ],
             [
              0.8888888888888888,
              "#fdca26"
             ],
             [
              1,
              "#f0f921"
             ]
            ],
            "type": "heatmapgl"
           }
          ],
          "histogram": [
           {
            "marker": {
             "colorbar": {
              "outlinewidth": 0,
              "ticks": ""
             }
            },
            "type": "histogram"
           }
          ],
          "histogram2d": [
           {
            "colorbar": {
             "outlinewidth": 0,
             "ticks": ""
            },
            "colorscale": [
             [
              0,
              "#0d0887"
             ],
             [
              0.1111111111111111,
              "#46039f"
             ],
             [
              0.2222222222222222,
              "#7201a8"
             ],
             [
              0.3333333333333333,
              "#9c179e"
             ],
             [
              0.4444444444444444,
              "#bd3786"
             ],
             [
              0.5555555555555556,
              "#d8576b"
             ],
             [
              0.6666666666666666,
              "#ed7953"
             ],
             [
              0.7777777777777778,
              "#fb9f3a"
             ],
             [
              0.8888888888888888,
              "#fdca26"
             ],
             [
              1,
              "#f0f921"
             ]
            ],
            "type": "histogram2d"
           }
          ],
          "histogram2dcontour": [
           {
            "colorbar": {
             "outlinewidth": 0,
             "ticks": ""
            },
            "colorscale": [
             [
              0,
              "#0d0887"
             ],
             [
              0.1111111111111111,
              "#46039f"
             ],
             [
              0.2222222222222222,
              "#7201a8"
             ],
             [
              0.3333333333333333,
              "#9c179e"
             ],
             [
              0.4444444444444444,
              "#bd3786"
             ],
             [
              0.5555555555555556,
              "#d8576b"
             ],
             [
              0.6666666666666666,
              "#ed7953"
             ],
             [
              0.7777777777777778,
              "#fb9f3a"
             ],
             [
              0.8888888888888888,
              "#fdca26"
             ],
             [
              1,
              "#f0f921"
             ]
            ],
            "type": "histogram2dcontour"
           }
          ],
          "mesh3d": [
           {
            "colorbar": {
             "outlinewidth": 0,
             "ticks": ""
            },
            "type": "mesh3d"
           }
          ],
          "parcoords": [
           {
            "line": {
             "colorbar": {
              "outlinewidth": 0,
              "ticks": ""
             }
            },
            "type": "parcoords"
           }
          ],
          "pie": [
           {
            "automargin": true,
            "type": "pie"
           }
          ],
          "scatter": [
           {
            "marker": {
             "colorbar": {
              "outlinewidth": 0,
              "ticks": ""
             }
            },
            "type": "scatter"
           }
          ],
          "scatter3d": [
           {
            "line": {
             "colorbar": {
              "outlinewidth": 0,
              "ticks": ""
             }
            },
            "marker": {
             "colorbar": {
              "outlinewidth": 0,
              "ticks": ""
             }
            },
            "type": "scatter3d"
           }
          ],
          "scattercarpet": [
           {
            "marker": {
             "colorbar": {
              "outlinewidth": 0,
              "ticks": ""
             }
            },
            "type": "scattercarpet"
           }
          ],
          "scattergeo": [
           {
            "marker": {
             "colorbar": {
              "outlinewidth": 0,
              "ticks": ""
             }
            },
            "type": "scattergeo"
           }
          ],
          "scattergl": [
           {
            "marker": {
             "colorbar": {
              "outlinewidth": 0,
              "ticks": ""
             }
            },
            "type": "scattergl"
           }
          ],
          "scattermapbox": [
           {
            "marker": {
             "colorbar": {
              "outlinewidth": 0,
              "ticks": ""
             }
            },
            "type": "scattermapbox"
           }
          ],
          "scatterpolar": [
           {
            "marker": {
             "colorbar": {
              "outlinewidth": 0,
              "ticks": ""
             }
            },
            "type": "scatterpolar"
           }
          ],
          "scatterpolargl": [
           {
            "marker": {
             "colorbar": {
              "outlinewidth": 0,
              "ticks": ""
             }
            },
            "type": "scatterpolargl"
           }
          ],
          "scatterternary": [
           {
            "marker": {
             "colorbar": {
              "outlinewidth": 0,
              "ticks": ""
             }
            },
            "type": "scatterternary"
           }
          ],
          "surface": [
           {
            "colorbar": {
             "outlinewidth": 0,
             "ticks": ""
            },
            "colorscale": [
             [
              0,
              "#0d0887"
             ],
             [
              0.1111111111111111,
              "#46039f"
             ],
             [
              0.2222222222222222,
              "#7201a8"
             ],
             [
              0.3333333333333333,
              "#9c179e"
             ],
             [
              0.4444444444444444,
              "#bd3786"
             ],
             [
              0.5555555555555556,
              "#d8576b"
             ],
             [
              0.6666666666666666,
              "#ed7953"
             ],
             [
              0.7777777777777778,
              "#fb9f3a"
             ],
             [
              0.8888888888888888,
              "#fdca26"
             ],
             [
              1,
              "#f0f921"
             ]
            ],
            "type": "surface"
           }
          ],
          "table": [
           {
            "cells": {
             "fill": {
              "color": "#EBF0F8"
             },
             "line": {
              "color": "white"
             }
            },
            "header": {
             "fill": {
              "color": "#C8D4E3"
             },
             "line": {
              "color": "white"
             }
            },
            "type": "table"
           }
          ]
         },
         "layout": {
          "annotationdefaults": {
           "arrowcolor": "#2a3f5f",
           "arrowhead": 0,
           "arrowwidth": 1
          },
          "coloraxis": {
           "colorbar": {
            "outlinewidth": 0,
            "ticks": ""
           }
          },
          "colorscale": {
           "diverging": [
            [
             0,
             "#8e0152"
            ],
            [
             0.1,
             "#c51b7d"
            ],
            [
             0.2,
             "#de77ae"
            ],
            [
             0.3,
             "#f1b6da"
            ],
            [
             0.4,
             "#fde0ef"
            ],
            [
             0.5,
             "#f7f7f7"
            ],
            [
             0.6,
             "#e6f5d0"
            ],
            [
             0.7,
             "#b8e186"
            ],
            [
             0.8,
             "#7fbc41"
            ],
            [
             0.9,
             "#4d9221"
            ],
            [
             1,
             "#276419"
            ]
           ],
           "sequential": [
            [
             0,
             "#0d0887"
            ],
            [
             0.1111111111111111,
             "#46039f"
            ],
            [
             0.2222222222222222,
             "#7201a8"
            ],
            [
             0.3333333333333333,
             "#9c179e"
            ],
            [
             0.4444444444444444,
             "#bd3786"
            ],
            [
             0.5555555555555556,
             "#d8576b"
            ],
            [
             0.6666666666666666,
             "#ed7953"
            ],
            [
             0.7777777777777778,
             "#fb9f3a"
            ],
            [
             0.8888888888888888,
             "#fdca26"
            ],
            [
             1,
             "#f0f921"
            ]
           ],
           "sequentialminus": [
            [
             0,
             "#0d0887"
            ],
            [
             0.1111111111111111,
             "#46039f"
            ],
            [
             0.2222222222222222,
             "#7201a8"
            ],
            [
             0.3333333333333333,
             "#9c179e"
            ],
            [
             0.4444444444444444,
             "#bd3786"
            ],
            [
             0.5555555555555556,
             "#d8576b"
            ],
            [
             0.6666666666666666,
             "#ed7953"
            ],
            [
             0.7777777777777778,
             "#fb9f3a"
            ],
            [
             0.8888888888888888,
             "#fdca26"
            ],
            [
             1,
             "#f0f921"
            ]
           ]
          },
          "colorway": [
           "#636efa",
           "#EF553B",
           "#00cc96",
           "#ab63fa",
           "#FFA15A",
           "#19d3f3",
           "#FF6692",
           "#B6E880",
           "#FF97FF",
           "#FECB52"
          ],
          "font": {
           "color": "#2a3f5f"
          },
          "geo": {
           "bgcolor": "white",
           "lakecolor": "white",
           "landcolor": "#E5ECF6",
           "showlakes": true,
           "showland": true,
           "subunitcolor": "white"
          },
          "hoverlabel": {
           "align": "left"
          },
          "hovermode": "closest",
          "mapbox": {
           "style": "light"
          },
          "paper_bgcolor": "white",
          "plot_bgcolor": "#E5ECF6",
          "polar": {
           "angularaxis": {
            "gridcolor": "white",
            "linecolor": "white",
            "ticks": ""
           },
           "bgcolor": "#E5ECF6",
           "radialaxis": {
            "gridcolor": "white",
            "linecolor": "white",
            "ticks": ""
           }
          },
          "scene": {
           "xaxis": {
            "backgroundcolor": "#E5ECF6",
            "gridcolor": "white",
            "gridwidth": 2,
            "linecolor": "white",
            "showbackground": true,
            "ticks": "",
            "zerolinecolor": "white"
           },
           "yaxis": {
            "backgroundcolor": "#E5ECF6",
            "gridcolor": "white",
            "gridwidth": 2,
            "linecolor": "white",
            "showbackground": true,
            "ticks": "",
            "zerolinecolor": "white"
           },
           "zaxis": {
            "backgroundcolor": "#E5ECF6",
            "gridcolor": "white",
            "gridwidth": 2,
            "linecolor": "white",
            "showbackground": true,
            "ticks": "",
            "zerolinecolor": "white"
           }
          },
          "shapedefaults": {
           "line": {
            "color": "#2a3f5f"
           }
          },
          "ternary": {
           "aaxis": {
            "gridcolor": "white",
            "linecolor": "white",
            "ticks": ""
           },
           "baxis": {
            "gridcolor": "white",
            "linecolor": "white",
            "ticks": ""
           },
           "bgcolor": "#E5ECF6",
           "caxis": {
            "gridcolor": "white",
            "linecolor": "white",
            "ticks": ""
           }
          },
          "title": {
           "x": 0.05
          },
          "xaxis": {
           "automargin": true,
           "gridcolor": "white",
           "linecolor": "white",
           "ticks": "",
           "title": {
            "standoff": 15
           },
           "zerolinecolor": "white",
           "zerolinewidth": 2
          },
          "yaxis": {
           "automargin": true,
           "gridcolor": "white",
           "linecolor": "white",
           "ticks": "",
           "title": {
            "standoff": 15
           },
           "zerolinecolor": "white",
           "zerolinewidth": 2
          }
         }
        },
        "title": {
         "text": "results_statevector_JW"
        },
        "xaxis": {
         "anchor": "y",
         "domain": [
          0,
          1
         ],
         "title": {
          "text": "distance"
         }
        },
        "yaxis": {
         "anchor": "x",
         "domain": [
          0,
          1
         ],
         "title": {
          "text": "value"
         }
        }
       }
      },
      "text/html": [
       "<div>\n",
       "        \n",
       "        \n",
       "            <div id=\"424cf2d5-78f0-4c8f-80a2-b1a192801088\" class=\"plotly-graph-div\" style=\"height:525px; width:100%;\"></div>\n",
       "            <script type=\"text/javascript\">\n",
       "                require([\"plotly\"], function(Plotly) {\n",
       "                    window.PLOTLYENV=window.PLOTLYENV || {};\n",
       "                    \n",
       "                if (document.getElementById(\"424cf2d5-78f0-4c8f-80a2-b1a192801088\")) {\n",
       "                    Plotly.newPlot(\n",
       "                        '424cf2d5-78f0-4c8f-80a2-b1a192801088',\n",
       "                        [{\"hovertemplate\": \"opt=COBYLA<br>distance=%{x}<br>value=%{y}<extra></extra>\", \"legendgroup\": \"COBYLA\", \"line\": {\"color\": \"#636efa\", \"dash\": \"solid\"}, \"mode\": \"lines\", \"name\": \"COBYLA\", \"orientation\": \"v\", \"showlegend\": true, \"type\": \"scatter\", \"x\": [0.5, 0.6, 0.7, 0.7999999999999999, 0.8999999999999999, 0.9999999999999999, 1.0999999999999999, 1.1999999999999997, 1.2999999999999998, 1.4, 1.4999999999999998, 1.5999999999999996, 1.6999999999999997, 1.7999999999999998, 1.8999999999999997, 1.9999999999999996, 2.0999999999999996, 2.1999999999999997, 2.3, 2.3999999999999995, 2.4999999999999996, 2.5999999999999996, 2.6999999999999993, 2.7999999999999994, 2.8999999999999995, 2.9999999999999996, 3.0999999999999996, 3.1999999999999993, 3.2999999999999994, 3.3999999999999995, 3.499999999999999, 3.599999999999999, 3.6999999999999993, 3.7999999999999994, 3.8999999999999995], \"xaxis\": \"x\", \"y\": [-6.507171429544078, -6.832712966510254, -7.034470971022653, -7.156103438728605, -7.238042580447203, -7.2827880840315995, -7.316819538623189, -7.39427025816684, -7.361615829535425, -7.432944939291859, -7.411129048222075, -7.488911921817394, -7.4754499730943405, -7.496428828499279, -7.548377013249575, -7.497692665083901, -7.5147610371992055, -7.526975762144473, -7.537613328770349, -7.543998305176822, -7.549339726129509, -7.552279598655099, -7.553417612091766, -7.552208681125591, -7.548474097959896, -7.544800088545323, -7.5395879584201975, -7.544604679388108, -7.530300948287624, -7.553911935270139, -7.590664020814718, -7.586424580287936, -7.578202678489687, -7.570411453977083, -7.571127020037441], \"yaxis\": \"y\"}, {\"hovertemplate\": \"opt=L_BFGS_B<br>distance=%{x}<br>value=%{y}<extra></extra>\", \"legendgroup\": \"L_BFGS_B\", \"line\": {\"color\": \"#EF553B\", \"dash\": \"solid\"}, \"mode\": \"lines\", \"name\": \"L_BFGS_B\", \"orientation\": \"v\", \"showlegend\": true, \"type\": \"scatter\", \"x\": [0.5, 0.6, 0.7, 0.7999999999999999, 0.8999999999999999, 0.9999999999999999, 1.0999999999999999, 1.1999999999999997, 1.2999999999999998, 1.4, 1.4999999999999998, 1.5999999999999996, 1.6999999999999997, 1.7999999999999998, 1.8999999999999997, 1.9999999999999996, 2.0999999999999996, 2.1999999999999997, 2.3, 2.3999999999999995, 2.4999999999999996, 2.5999999999999996, 2.6999999999999993, 2.7999999999999994, 2.8999999999999995, 2.9999999999999996, 3.0999999999999996, 3.1999999999999993, 3.2999999999999994, 3.3999999999999995, 3.499999999999999, 3.599999999999999, 3.6999999999999993, 3.7999999999999994, 3.8999999999999995], \"xaxis\": \"x\", \"y\": [-6.552836808273033, -6.885181879765755, -7.092592917402813, -7.220657902415474, -7.298877708143786, -7.347929964914736, -7.382045537533721, -7.409962966194896, -7.436104767397327, -7.46202337360869, -7.487714113009351, -7.512557921862974, -7.535857146652067, -7.55707099669658, -7.590630504442116, -7.607115280965337, -7.605805923048807, -7.617010541418093, -7.62585193533191, -7.632462716669977, -7.636969642023354, -7.610289366053621, -7.631869401637477, -7.632606285383219, -7.631531665223697, -7.628767162349426, -7.624486338282518, -7.6189279252828985, -7.612396161975006, -7.602818370584743, -7.594911928605698, -7.546928533014562, -7.583510094468503, -7.570411466190747, -7.563149035980974], \"yaxis\": \"y\"}, {\"hovertemplate\": \"opt=SLSQP<br>distance=%{x}<br>value=%{y}<extra></extra>\", \"legendgroup\": \"SLSQP\", \"line\": {\"color\": \"#00cc96\", \"dash\": \"solid\"}, \"mode\": \"lines\", \"name\": \"SLSQP\", \"orientation\": \"v\", \"showlegend\": true, \"type\": \"scatter\", \"x\": [0.5, 0.6, 0.7, 0.7999999999999999, 0.8999999999999999, 0.9999999999999999, 1.0999999999999999, 1.1999999999999997, 1.2999999999999998, 1.4, 1.4999999999999998, 1.5999999999999996, 1.6999999999999997, 1.7999999999999998, 1.8999999999999997, 1.9999999999999996, 2.0999999999999996, 2.1999999999999997, 2.3, 2.3999999999999995, 2.4999999999999996, 2.5999999999999996, 2.6999999999999993, 2.7999999999999994, 2.8999999999999995, 2.9999999999999996, 3.0999999999999996, 3.1999999999999993, 3.2999999999999994, 3.3999999999999995, 3.499999999999999, 3.599999999999999, 3.6999999999999993, 3.7999999999999994, 3.8999999999999995], \"xaxis\": \"x\", \"y\": [-6.552836686471684, -6.8851816566167745, -7.092592366894961, -7.220657864462265, -7.298877706119992, -7.347929935457648, -7.382045275965039, -7.4099629584808255, -7.436104601731789, -7.4620229415478985, -7.487714112272768, -7.512557904818642, -7.535857094046774, -7.557070870890096, -7.5758716005980204, -7.592118352803147, -7.6058059109822995, -7.617010540719489, -7.625851933260881, -7.544025998405911, -7.549339363973607, -7.552259433080397, -7.552836048076854, -7.632606252092089, -7.631531621303001, -7.628767157989886, -7.624486204722068, -7.618927923184235, -7.612395968834605, -7.605243194492378, -7.597833984047398, -7.586424527201758, -7.583509943536592, -7.570411308626868, -7.469827566721084], \"yaxis\": \"y\"}, {\"hovertemplate\": \"opt=SPSA<br>distance=%{x}<br>value=%{y}<extra></extra>\", \"legendgroup\": \"SPSA\", \"line\": {\"color\": \"#ab63fa\", \"dash\": \"solid\"}, \"mode\": \"lines\", \"name\": \"SPSA\", \"orientation\": \"v\", \"showlegend\": true, \"type\": \"scatter\", \"x\": [0.5, 0.6, 0.7, 0.7999999999999999, 0.8999999999999999, 0.9999999999999999, 1.0999999999999999, 1.1999999999999997, 1.2999999999999998, 1.4, 1.4999999999999998, 1.5999999999999996, 1.6999999999999997, 1.7999999999999998, 1.8999999999999997, 1.9999999999999996, 2.0999999999999996, 2.1999999999999997, 2.3, 2.3999999999999995, 2.4999999999999996, 2.5999999999999996, 2.6999999999999993, 2.7999999999999994, 2.8999999999999995, 2.9999999999999996, 3.0999999999999996, 3.1999999999999993, 3.2999999999999994, 3.3999999999999995, 3.499999999999999, 3.599999999999999, 3.6999999999999993, 3.7999999999999994, 3.8999999999999995], \"xaxis\": \"x\", \"y\": [-6.5074981072301386, -6.86133123168059, -6.865860073684333, -7.003079248113701, -7.1297319311568765, -7.265587404434497, -7.162894661732489, -7.201880061673302, -7.176158654769795, -7.104747958135724, -7.270558175393694, -7.3404360029868565, -7.274033134062392, -7.271474816231817, -7.316664539799243, -7.460634332412856, -7.384383520587888, -7.508685108664627, -7.554055014217739, -7.428269716504468, -7.383072008039643, -7.433527014941057, -7.366927204070768, -7.460900579325121, -7.537780855191067, -7.518154945848718, -7.395941237414549, -7.514872160680948, -7.479320778050075, -7.349226036769618, -7.4766854494134884, -7.363896387706751, -7.41144697800146, -7.433791372895962, -7.374622110825401], \"yaxis\": \"y\"}],\n",
       "                        {\"legend\": {\"title\": {\"text\": \"opt\"}, \"tracegroupgap\": 0}, \"template\": {\"data\": {\"bar\": [{\"error_x\": {\"color\": \"#2a3f5f\"}, \"error_y\": {\"color\": \"#2a3f5f\"}, \"marker\": {\"line\": {\"color\": \"#E5ECF6\", \"width\": 0.5}}, \"type\": \"bar\"}], \"barpolar\": [{\"marker\": {\"line\": {\"color\": \"#E5ECF6\", \"width\": 0.5}}, \"type\": \"barpolar\"}], \"carpet\": [{\"aaxis\": {\"endlinecolor\": \"#2a3f5f\", \"gridcolor\": \"white\", \"linecolor\": \"white\", \"minorgridcolor\": \"white\", \"startlinecolor\": \"#2a3f5f\"}, \"baxis\": {\"endlinecolor\": \"#2a3f5f\", \"gridcolor\": \"white\", \"linecolor\": \"white\", \"minorgridcolor\": \"white\", \"startlinecolor\": \"#2a3f5f\"}, \"type\": \"carpet\"}], \"choropleth\": [{\"colorbar\": {\"outlinewidth\": 0, \"ticks\": \"\"}, \"type\": \"choropleth\"}], \"contour\": [{\"colorbar\": {\"outlinewidth\": 0, \"ticks\": \"\"}, \"colorscale\": [[0.0, \"#0d0887\"], [0.1111111111111111, \"#46039f\"], [0.2222222222222222, \"#7201a8\"], [0.3333333333333333, \"#9c179e\"], [0.4444444444444444, \"#bd3786\"], [0.5555555555555556, \"#d8576b\"], [0.6666666666666666, \"#ed7953\"], [0.7777777777777778, \"#fb9f3a\"], [0.8888888888888888, \"#fdca26\"], [1.0, \"#f0f921\"]], \"type\": \"contour\"}], \"contourcarpet\": [{\"colorbar\": {\"outlinewidth\": 0, \"ticks\": \"\"}, \"type\": \"contourcarpet\"}], \"heatmap\": [{\"colorbar\": {\"outlinewidth\": 0, \"ticks\": \"\"}, \"colorscale\": [[0.0, \"#0d0887\"], [0.1111111111111111, \"#46039f\"], [0.2222222222222222, \"#7201a8\"], [0.3333333333333333, \"#9c179e\"], [0.4444444444444444, \"#bd3786\"], [0.5555555555555556, \"#d8576b\"], [0.6666666666666666, \"#ed7953\"], [0.7777777777777778, \"#fb9f3a\"], [0.8888888888888888, \"#fdca26\"], [1.0, \"#f0f921\"]], \"type\": \"heatmap\"}], \"heatmapgl\": [{\"colorbar\": {\"outlinewidth\": 0, \"ticks\": \"\"}, \"colorscale\": [[0.0, \"#0d0887\"], [0.1111111111111111, \"#46039f\"], [0.2222222222222222, \"#7201a8\"], [0.3333333333333333, \"#9c179e\"], [0.4444444444444444, \"#bd3786\"], [0.5555555555555556, \"#d8576b\"], [0.6666666666666666, \"#ed7953\"], [0.7777777777777778, \"#fb9f3a\"], [0.8888888888888888, \"#fdca26\"], [1.0, \"#f0f921\"]], \"type\": \"heatmapgl\"}], \"histogram\": [{\"marker\": {\"colorbar\": {\"outlinewidth\": 0, \"ticks\": \"\"}}, \"type\": \"histogram\"}], \"histogram2d\": [{\"colorbar\": {\"outlinewidth\": 0, \"ticks\": \"\"}, \"colorscale\": [[0.0, \"#0d0887\"], [0.1111111111111111, \"#46039f\"], [0.2222222222222222, \"#7201a8\"], [0.3333333333333333, \"#9c179e\"], [0.4444444444444444, \"#bd3786\"], [0.5555555555555556, \"#d8576b\"], [0.6666666666666666, \"#ed7953\"], [0.7777777777777778, \"#fb9f3a\"], [0.8888888888888888, \"#fdca26\"], [1.0, \"#f0f921\"]], \"type\": \"histogram2d\"}], \"histogram2dcontour\": [{\"colorbar\": {\"outlinewidth\": 0, \"ticks\": \"\"}, \"colorscale\": [[0.0, \"#0d0887\"], [0.1111111111111111, \"#46039f\"], [0.2222222222222222, \"#7201a8\"], [0.3333333333333333, \"#9c179e\"], [0.4444444444444444, \"#bd3786\"], [0.5555555555555556, \"#d8576b\"], [0.6666666666666666, \"#ed7953\"], [0.7777777777777778, \"#fb9f3a\"], [0.8888888888888888, \"#fdca26\"], [1.0, \"#f0f921\"]], \"type\": \"histogram2dcontour\"}], \"mesh3d\": [{\"colorbar\": {\"outlinewidth\": 0, \"ticks\": \"\"}, \"type\": \"mesh3d\"}], \"parcoords\": [{\"line\": {\"colorbar\": {\"outlinewidth\": 0, \"ticks\": \"\"}}, \"type\": \"parcoords\"}], \"pie\": [{\"automargin\": true, \"type\": \"pie\"}], \"scatter\": [{\"marker\": {\"colorbar\": {\"outlinewidth\": 0, \"ticks\": \"\"}}, \"type\": \"scatter\"}], \"scatter3d\": [{\"line\": {\"colorbar\": {\"outlinewidth\": 0, \"ticks\": \"\"}}, \"marker\": {\"colorbar\": {\"outlinewidth\": 0, \"ticks\": \"\"}}, \"type\": \"scatter3d\"}], \"scattercarpet\": [{\"marker\": {\"colorbar\": {\"outlinewidth\": 0, \"ticks\": \"\"}}, \"type\": \"scattercarpet\"}], \"scattergeo\": [{\"marker\": {\"colorbar\": {\"outlinewidth\": 0, \"ticks\": \"\"}}, \"type\": \"scattergeo\"}], \"scattergl\": [{\"marker\": {\"colorbar\": {\"outlinewidth\": 0, \"ticks\": \"\"}}, \"type\": \"scattergl\"}], \"scattermapbox\": [{\"marker\": {\"colorbar\": {\"outlinewidth\": 0, \"ticks\": \"\"}}, \"type\": \"scattermapbox\"}], \"scatterpolar\": [{\"marker\": {\"colorbar\": {\"outlinewidth\": 0, \"ticks\": \"\"}}, \"type\": \"scatterpolar\"}], \"scatterpolargl\": [{\"marker\": {\"colorbar\": {\"outlinewidth\": 0, \"ticks\": \"\"}}, \"type\": \"scatterpolargl\"}], \"scatterternary\": [{\"marker\": {\"colorbar\": {\"outlinewidth\": 0, \"ticks\": \"\"}}, \"type\": \"scatterternary\"}], \"surface\": [{\"colorbar\": {\"outlinewidth\": 0, \"ticks\": \"\"}, \"colorscale\": [[0.0, \"#0d0887\"], [0.1111111111111111, \"#46039f\"], [0.2222222222222222, \"#7201a8\"], [0.3333333333333333, \"#9c179e\"], [0.4444444444444444, \"#bd3786\"], [0.5555555555555556, \"#d8576b\"], [0.6666666666666666, \"#ed7953\"], [0.7777777777777778, \"#fb9f3a\"], [0.8888888888888888, \"#fdca26\"], [1.0, \"#f0f921\"]], \"type\": \"surface\"}], \"table\": [{\"cells\": {\"fill\": {\"color\": \"#EBF0F8\"}, \"line\": {\"color\": \"white\"}}, \"header\": {\"fill\": {\"color\": \"#C8D4E3\"}, \"line\": {\"color\": \"white\"}}, \"type\": \"table\"}]}, \"layout\": {\"annotationdefaults\": {\"arrowcolor\": \"#2a3f5f\", \"arrowhead\": 0, \"arrowwidth\": 1}, \"coloraxis\": {\"colorbar\": {\"outlinewidth\": 0, \"ticks\": \"\"}}, \"colorscale\": {\"diverging\": [[0, \"#8e0152\"], [0.1, \"#c51b7d\"], [0.2, \"#de77ae\"], [0.3, \"#f1b6da\"], [0.4, \"#fde0ef\"], [0.5, \"#f7f7f7\"], [0.6, \"#e6f5d0\"], [0.7, \"#b8e186\"], [0.8, \"#7fbc41\"], [0.9, \"#4d9221\"], [1, \"#276419\"]], \"sequential\": [[0.0, \"#0d0887\"], [0.1111111111111111, \"#46039f\"], [0.2222222222222222, \"#7201a8\"], [0.3333333333333333, \"#9c179e\"], [0.4444444444444444, \"#bd3786\"], [0.5555555555555556, \"#d8576b\"], [0.6666666666666666, \"#ed7953\"], [0.7777777777777778, \"#fb9f3a\"], [0.8888888888888888, \"#fdca26\"], [1.0, \"#f0f921\"]], \"sequentialminus\": [[0.0, \"#0d0887\"], [0.1111111111111111, \"#46039f\"], [0.2222222222222222, \"#7201a8\"], [0.3333333333333333, \"#9c179e\"], [0.4444444444444444, \"#bd3786\"], [0.5555555555555556, \"#d8576b\"], [0.6666666666666666, \"#ed7953\"], [0.7777777777777778, \"#fb9f3a\"], [0.8888888888888888, \"#fdca26\"], [1.0, \"#f0f921\"]]}, \"colorway\": [\"#636efa\", \"#EF553B\", \"#00cc96\", \"#ab63fa\", \"#FFA15A\", \"#19d3f3\", \"#FF6692\", \"#B6E880\", \"#FF97FF\", \"#FECB52\"], \"font\": {\"color\": \"#2a3f5f\"}, \"geo\": {\"bgcolor\": \"white\", \"lakecolor\": \"white\", \"landcolor\": \"#E5ECF6\", \"showlakes\": true, \"showland\": true, \"subunitcolor\": \"white\"}, \"hoverlabel\": {\"align\": \"left\"}, \"hovermode\": \"closest\", \"mapbox\": {\"style\": \"light\"}, \"paper_bgcolor\": \"white\", \"plot_bgcolor\": \"#E5ECF6\", \"polar\": {\"angularaxis\": {\"gridcolor\": \"white\", \"linecolor\": \"white\", \"ticks\": \"\"}, \"bgcolor\": \"#E5ECF6\", \"radialaxis\": {\"gridcolor\": \"white\", \"linecolor\": \"white\", \"ticks\": \"\"}}, \"scene\": {\"xaxis\": {\"backgroundcolor\": \"#E5ECF6\", \"gridcolor\": \"white\", \"gridwidth\": 2, \"linecolor\": \"white\", \"showbackground\": true, \"ticks\": \"\", \"zerolinecolor\": \"white\"}, \"yaxis\": {\"backgroundcolor\": \"#E5ECF6\", \"gridcolor\": \"white\", \"gridwidth\": 2, \"linecolor\": \"white\", \"showbackground\": true, \"ticks\": \"\", \"zerolinecolor\": \"white\"}, \"zaxis\": {\"backgroundcolor\": \"#E5ECF6\", \"gridcolor\": \"white\", \"gridwidth\": 2, \"linecolor\": \"white\", \"showbackground\": true, \"ticks\": \"\", \"zerolinecolor\": \"white\"}}, \"shapedefaults\": {\"line\": {\"color\": \"#2a3f5f\"}}, \"ternary\": {\"aaxis\": {\"gridcolor\": \"white\", \"linecolor\": \"white\", \"ticks\": \"\"}, \"baxis\": {\"gridcolor\": \"white\", \"linecolor\": \"white\", \"ticks\": \"\"}, \"bgcolor\": \"#E5ECF6\", \"caxis\": {\"gridcolor\": \"white\", \"linecolor\": \"white\", \"ticks\": \"\"}}, \"title\": {\"x\": 0.05}, \"xaxis\": {\"automargin\": true, \"gridcolor\": \"white\", \"linecolor\": \"white\", \"ticks\": \"\", \"title\": {\"standoff\": 15}, \"zerolinecolor\": \"white\", \"zerolinewidth\": 2}, \"yaxis\": {\"automargin\": true, \"gridcolor\": \"white\", \"linecolor\": \"white\", \"ticks\": \"\", \"title\": {\"standoff\": 15}, \"zerolinecolor\": \"white\", \"zerolinewidth\": 2}}}, \"title\": {\"text\": \"results_statevector_JW\"}, \"xaxis\": {\"anchor\": \"y\", \"domain\": [0.0, 1.0], \"title\": {\"text\": \"distance\"}}, \"yaxis\": {\"anchor\": \"x\", \"domain\": [0.0, 1.0], \"title\": {\"text\": \"value\"}}},\n",
       "                        {\"responsive\": true}\n",
       "                    ).then(function(){\n",
       "                            \n",
       "var gd = document.getElementById('424cf2d5-78f0-4c8f-80a2-b1a192801088');\n",
       "var x = new MutationObserver(function (mutations, observer) {{\n",
       "        var display = window.getComputedStyle(gd).display;\n",
       "        if (!display || display === 'none') {{\n",
       "            console.log([gd, 'removed!']);\n",
       "            Plotly.purge(gd);\n",
       "            observer.disconnect();\n",
       "        }}\n",
       "}});\n",
       "\n",
       "// Listen for the removal of the full notebook cells\n",
       "var notebookContainer = gd.closest('#notebook-container');\n",
       "if (notebookContainer) {{\n",
       "    x.observe(notebookContainer, {childList: true});\n",
       "}}\n",
       "\n",
       "// Listen for the clearing of the current output cell\n",
       "var outputEl = gd.closest('.output');\n",
       "if (outputEl) {{\n",
       "    x.observe(outputEl, {childList: true});\n",
       "}}\n",
       "\n",
       "                        })\n",
       "                };\n",
       "                });\n",
       "            </script>\n",
       "        </div>"
      ]
     },
     "metadata": {},
     "output_type": "display_data"
    },
    {
     "data": {
      "application/vnd.plotly.v1+json": {
       "config": {
        "plotlyServerURL": "https://plot.ly"
       },
       "data": [
        {
         "hovertemplate": "opt=COBYLA<br>distance=%{x}<br>value=%{y}<extra></extra>",
         "legendgroup": "COBYLA",
         "line": {
          "color": "#636efa",
          "dash": "solid"
         },
         "mode": "lines",
         "name": "COBYLA",
         "orientation": "v",
         "showlegend": true,
         "type": "scatter",
         "x": [
          0.5,
          0.6,
          0.7,
          0.7999999999999999,
          0.8999999999999999,
          0.9999999999999999,
          1.0999999999999999,
          1.1999999999999997,
          1.2999999999999998,
          1.4,
          1.4999999999999998,
          1.5999999999999996,
          1.6999999999999997,
          1.7999999999999998,
          1.8999999999999997,
          1.9999999999999996,
          2.0999999999999996,
          2.1999999999999997,
          2.3,
          2.3999999999999995,
          2.4999999999999996,
          2.5999999999999996,
          2.6999999999999993,
          2.7999999999999994,
          2.8999999999999995,
          2.9999999999999996,
          3.0999999999999996,
          3.1999999999999993,
          3.2999999999999994,
          3.3999999999999995,
          3.499999999999999,
          3.599999999999999,
          3.6999999999999993,
          3.7999999999999994,
          3.8999999999999995
         ],
         "xaxis": "x",
         "y": [
          -7.028410086316052,
          -7.299541040621842,
          -7.485944868881052,
          -7.6157701587397595,
          -7.705753337685797,
          -7.767362132076944,
          -7.8087431720264995,
          -7.83561582026481,
          -7.8519538509489095,
          -7.860538650525184,
          -7.863357617988388,
          -7.861864761733097,
          -7.857144953732112,
          -7.850018696514085,
          -7.84111203275506,
          -7.830905577679763,
          -7.819770254593198,
          -7.807994362880697,
          -7.795804477746851,
          -7.783381625010671,
          -7.770873664273987,
          -7.7584043949002695,
          -7.74607970409445,
          -7.7339913365482795,
          -7.722218782719512,
          -7.710829897176212,
          -7.699880929785721,
          -7.689416361671867,
          -7.679468982704144,
          -7.670060346890737,
          -7.6612015991794,
          -7.652894637800968,
          -7.645133465887593,
          -7.637905599080495,
          -7.6311934580081004
         ],
         "yaxis": "y"
        },
        {
         "hovertemplate": "opt=L_BFGS_B<br>distance=%{x}<br>value=%{y}<extra></extra>",
         "legendgroup": "L_BFGS_B",
         "line": {
          "color": "#EF553B",
          "dash": "solid"
         },
         "mode": "lines",
         "name": "L_BFGS_B",
         "orientation": "v",
         "showlegend": true,
         "type": "scatter",
         "x": [
          0.5,
          0.6,
          0.7,
          0.7999999999999999,
          0.8999999999999999,
          0.9999999999999999,
          1.0999999999999999,
          1.1999999999999997,
          1.2999999999999998,
          1.4,
          1.4999999999999998,
          1.5999999999999996,
          1.6999999999999997,
          1.7999999999999998,
          1.8999999999999997,
          1.9999999999999996,
          2.0999999999999996,
          2.1999999999999997,
          2.3,
          2.3999999999999995,
          2.4999999999999996,
          2.5999999999999996,
          2.6999999999999993,
          2.7999999999999994,
          2.8999999999999995,
          2.9999999999999996,
          3.0999999999999996,
          3.1999999999999993,
          3.2999999999999994,
          3.3999999999999995,
          3.499999999999999,
          3.599999999999999,
          3.6999999999999993,
          3.7999999999999994,
          3.8999999999999995
         ],
         "xaxis": "x",
         "y": [
          -7.028410094541934,
          -7.299541051342241,
          -7.485944870547277,
          -7.615770161232095,
          -7.705753340136111,
          -7.767362135748561,
          -7.808743176493409,
          -7.835615825556918,
          -7.85195385795623,
          -7.860538661020696,
          -7.863357621535119,
          -7.861864769808643,
          -7.8571449602038275,
          -7.850018697166801,
          -7.841112040771403,
          -7.83090558463708,
          -7.819770257777717,
          -7.807994369272975,
          -7.795804483817629,
          -7.783381627155395,
          -7.770873669221905,
          -7.758404399049614,
          -7.746079707360984,
          -7.733991340166796,
          -7.722218783149359,
          -7.710829900217222,
          -7.699880932787503,
          -7.689416363299997,
          -7.679468985510044,
          -7.670060349511333,
          -7.66120160151523,
          -7.65289464026635,
          -7.645133466813094,
          -7.637905601068266,
          -7.631193460707109
         ],
         "yaxis": "y"
        },
        {
         "hovertemplate": "opt=SLSQP<br>distance=%{x}<br>value=%{y}<extra></extra>",
         "legendgroup": "SLSQP",
         "line": {
          "color": "#00cc96",
          "dash": "solid"
         },
         "mode": "lines",
         "name": "SLSQP",
         "orientation": "v",
         "showlegend": true,
         "type": "scatter",
         "x": [
          0.5,
          0.6,
          0.7,
          0.7999999999999999,
          0.8999999999999999,
          0.9999999999999999,
          1.0999999999999999,
          1.1999999999999997,
          1.2999999999999998,
          1.4,
          1.4999999999999998,
          1.5999999999999996,
          1.6999999999999997,
          1.7999999999999998,
          1.8999999999999997,
          1.9999999999999996,
          2.0999999999999996,
          2.1999999999999997,
          2.3,
          2.3999999999999995,
          2.4999999999999996,
          2.5999999999999996,
          2.6999999999999993,
          2.7999999999999994,
          2.8999999999999995,
          2.9999999999999996,
          3.0999999999999996,
          3.1999999999999993,
          3.2999999999999994,
          3.3999999999999995,
          3.499999999999999,
          3.599999999999999,
          3.6999999999999993,
          3.7999999999999994,
          3.8999999999999995
         ],
         "xaxis": "x",
         "y": [
          -7.028410094541932,
          -7.299541051342235,
          -7.485944870547275,
          -7.615770161232093,
          -7.705753340136113,
          -7.7673621357485665,
          -7.808743176493419,
          -7.835615825556916,
          -7.851953857956239,
          -7.86053866102069,
          -7.863357621535112,
          -7.861864769808644,
          -7.857144960203829,
          -7.850018697166806,
          -7.8411120407713994,
          -7.830905584637079,
          -7.819770257777719,
          -7.807994369272972,
          -7.795804483817637,
          -7.783381627155389,
          -7.770873669221901,
          -7.758404399049612,
          -7.74607970736098,
          -7.7339913401667975,
          -7.722218783149359,
          -7.710829900217217,
          -7.699880932787497,
          -7.689416363299999,
          -7.679468985510046,
          -7.670060349511327,
          -7.661201601515226,
          -7.6528946402663465,
          -7.645133466813093,
          -7.637905601068255,
          -7.63119346070683
         ],
         "yaxis": "y"
        },
        {
         "hovertemplate": "opt=SPSA<br>distance=%{x}<br>value=%{y}<extra></extra>",
         "legendgroup": "SPSA",
         "line": {
          "color": "#ab63fa",
          "dash": "solid"
         },
         "mode": "lines",
         "name": "SPSA",
         "orientation": "v",
         "showlegend": true,
         "type": "scatter",
         "x": [
          0.5,
          0.6,
          0.7,
          0.7999999999999999,
          0.8999999999999999,
          0.9999999999999999,
          1.0999999999999999,
          1.1999999999999997,
          1.2999999999999998,
          1.4,
          1.4999999999999998,
          1.5999999999999996,
          1.6999999999999997,
          1.7999999999999998,
          1.8999999999999997,
          1.9999999999999996,
          2.0999999999999996,
          2.1999999999999997,
          2.3,
          2.3999999999999995,
          2.4999999999999996,
          2.5999999999999996,
          2.6999999999999993,
          2.7999999999999994,
          2.8999999999999995,
          2.9999999999999996,
          3.0999999999999996,
          3.1999999999999993,
          3.2999999999999994,
          3.3999999999999995,
          3.499999999999999,
          3.599999999999999,
          3.6999999999999993,
          3.7999999999999994,
          3.8999999999999995
         ],
         "xaxis": "x",
         "y": [
          -6.902668229994032,
          -7.179270303576175,
          -7.475412652917227,
          -7.615769887967395,
          -7.155790728289947,
          -7.767362135600428,
          -7.786621275228182,
          -7.738203531952459,
          -7.470869230650389,
          -7.860538350596549,
          -7.842993651270651,
          -7.396771143969626,
          -7.724415601780848,
          -7.7989565681092,
          -7.579927531522213,
          -7.670225344575366,
          -7.706466814009012,
          -7.807994322091167,
          -7.560927744717632,
          -7.646338410427722,
          -7.654157889451497,
          -7.7451734348846974,
          -7.563638064032804,
          -7.7293219642659805,
          -7.634470122519946,
          -7.6027920439545085,
          -7.5718705024893564,
          -7.528441497375768,
          -7.5846050217151255,
          -7.667469889329229,
          -7.641452528343309,
          -7.621063804587137,
          -7.545370018024149,
          -7.595472095941195,
          -7.582002722284769
         ],
         "yaxis": "y"
        }
       ],
       "layout": {
        "legend": {
         "title": {
          "text": "opt"
         },
         "tracegroupgap": 0
        },
        "template": {
         "data": {
          "bar": [
           {
            "error_x": {
             "color": "#2a3f5f"
            },
            "error_y": {
             "color": "#2a3f5f"
            },
            "marker": {
             "line": {
              "color": "#E5ECF6",
              "width": 0.5
             }
            },
            "type": "bar"
           }
          ],
          "barpolar": [
           {
            "marker": {
             "line": {
              "color": "#E5ECF6",
              "width": 0.5
             }
            },
            "type": "barpolar"
           }
          ],
          "carpet": [
           {
            "aaxis": {
             "endlinecolor": "#2a3f5f",
             "gridcolor": "white",
             "linecolor": "white",
             "minorgridcolor": "white",
             "startlinecolor": "#2a3f5f"
            },
            "baxis": {
             "endlinecolor": "#2a3f5f",
             "gridcolor": "white",
             "linecolor": "white",
             "minorgridcolor": "white",
             "startlinecolor": "#2a3f5f"
            },
            "type": "carpet"
           }
          ],
          "choropleth": [
           {
            "colorbar": {
             "outlinewidth": 0,
             "ticks": ""
            },
            "type": "choropleth"
           }
          ],
          "contour": [
           {
            "colorbar": {
             "outlinewidth": 0,
             "ticks": ""
            },
            "colorscale": [
             [
              0,
              "#0d0887"
             ],
             [
              0.1111111111111111,
              "#46039f"
             ],
             [
              0.2222222222222222,
              "#7201a8"
             ],
             [
              0.3333333333333333,
              "#9c179e"
             ],
             [
              0.4444444444444444,
              "#bd3786"
             ],
             [
              0.5555555555555556,
              "#d8576b"
             ],
             [
              0.6666666666666666,
              "#ed7953"
             ],
             [
              0.7777777777777778,
              "#fb9f3a"
             ],
             [
              0.8888888888888888,
              "#fdca26"
             ],
             [
              1,
              "#f0f921"
             ]
            ],
            "type": "contour"
           }
          ],
          "contourcarpet": [
           {
            "colorbar": {
             "outlinewidth": 0,
             "ticks": ""
            },
            "type": "contourcarpet"
           }
          ],
          "heatmap": [
           {
            "colorbar": {
             "outlinewidth": 0,
             "ticks": ""
            },
            "colorscale": [
             [
              0,
              "#0d0887"
             ],
             [
              0.1111111111111111,
              "#46039f"
             ],
             [
              0.2222222222222222,
              "#7201a8"
             ],
             [
              0.3333333333333333,
              "#9c179e"
             ],
             [
              0.4444444444444444,
              "#bd3786"
             ],
             [
              0.5555555555555556,
              "#d8576b"
             ],
             [
              0.6666666666666666,
              "#ed7953"
             ],
             [
              0.7777777777777778,
              "#fb9f3a"
             ],
             [
              0.8888888888888888,
              "#fdca26"
             ],
             [
              1,
              "#f0f921"
             ]
            ],
            "type": "heatmap"
           }
          ],
          "heatmapgl": [
           {
            "colorbar": {
             "outlinewidth": 0,
             "ticks": ""
            },
            "colorscale": [
             [
              0,
              "#0d0887"
             ],
             [
              0.1111111111111111,
              "#46039f"
             ],
             [
              0.2222222222222222,
              "#7201a8"
             ],
             [
              0.3333333333333333,
              "#9c179e"
             ],
             [
              0.4444444444444444,
              "#bd3786"
             ],
             [
              0.5555555555555556,
              "#d8576b"
             ],
             [
              0.6666666666666666,
              "#ed7953"
             ],
             [
              0.7777777777777778,
              "#fb9f3a"
             ],
             [
              0.8888888888888888,
              "#fdca26"
             ],
             [
              1,
              "#f0f921"
             ]
            ],
            "type": "heatmapgl"
           }
          ],
          "histogram": [
           {
            "marker": {
             "colorbar": {
              "outlinewidth": 0,
              "ticks": ""
             }
            },
            "type": "histogram"
           }
          ],
          "histogram2d": [
           {
            "colorbar": {
             "outlinewidth": 0,
             "ticks": ""
            },
            "colorscale": [
             [
              0,
              "#0d0887"
             ],
             [
              0.1111111111111111,
              "#46039f"
             ],
             [
              0.2222222222222222,
              "#7201a8"
             ],
             [
              0.3333333333333333,
              "#9c179e"
             ],
             [
              0.4444444444444444,
              "#bd3786"
             ],
             [
              0.5555555555555556,
              "#d8576b"
             ],
             [
              0.6666666666666666,
              "#ed7953"
             ],
             [
              0.7777777777777778,
              "#fb9f3a"
             ],
             [
              0.8888888888888888,
              "#fdca26"
             ],
             [
              1,
              "#f0f921"
             ]
            ],
            "type": "histogram2d"
           }
          ],
          "histogram2dcontour": [
           {
            "colorbar": {
             "outlinewidth": 0,
             "ticks": ""
            },
            "colorscale": [
             [
              0,
              "#0d0887"
             ],
             [
              0.1111111111111111,
              "#46039f"
             ],
             [
              0.2222222222222222,
              "#7201a8"
             ],
             [
              0.3333333333333333,
              "#9c179e"
             ],
             [
              0.4444444444444444,
              "#bd3786"
             ],
             [
              0.5555555555555556,
              "#d8576b"
             ],
             [
              0.6666666666666666,
              "#ed7953"
             ],
             [
              0.7777777777777778,
              "#fb9f3a"
             ],
             [
              0.8888888888888888,
              "#fdca26"
             ],
             [
              1,
              "#f0f921"
             ]
            ],
            "type": "histogram2dcontour"
           }
          ],
          "mesh3d": [
           {
            "colorbar": {
             "outlinewidth": 0,
             "ticks": ""
            },
            "type": "mesh3d"
           }
          ],
          "parcoords": [
           {
            "line": {
             "colorbar": {
              "outlinewidth": 0,
              "ticks": ""
             }
            },
            "type": "parcoords"
           }
          ],
          "pie": [
           {
            "automargin": true,
            "type": "pie"
           }
          ],
          "scatter": [
           {
            "marker": {
             "colorbar": {
              "outlinewidth": 0,
              "ticks": ""
             }
            },
            "type": "scatter"
           }
          ],
          "scatter3d": [
           {
            "line": {
             "colorbar": {
              "outlinewidth": 0,
              "ticks": ""
             }
            },
            "marker": {
             "colorbar": {
              "outlinewidth": 0,
              "ticks": ""
             }
            },
            "type": "scatter3d"
           }
          ],
          "scattercarpet": [
           {
            "marker": {
             "colorbar": {
              "outlinewidth": 0,
              "ticks": ""
             }
            },
            "type": "scattercarpet"
           }
          ],
          "scattergeo": [
           {
            "marker": {
             "colorbar": {
              "outlinewidth": 0,
              "ticks": ""
             }
            },
            "type": "scattergeo"
           }
          ],
          "scattergl": [
           {
            "marker": {
             "colorbar": {
              "outlinewidth": 0,
              "ticks": ""
             }
            },
            "type": "scattergl"
           }
          ],
          "scattermapbox": [
           {
            "marker": {
             "colorbar": {
              "outlinewidth": 0,
              "ticks": ""
             }
            },
            "type": "scattermapbox"
           }
          ],
          "scatterpolar": [
           {
            "marker": {
             "colorbar": {
              "outlinewidth": 0,
              "ticks": ""
             }
            },
            "type": "scatterpolar"
           }
          ],
          "scatterpolargl": [
           {
            "marker": {
             "colorbar": {
              "outlinewidth": 0,
              "ticks": ""
             }
            },
            "type": "scatterpolargl"
           }
          ],
          "scatterternary": [
           {
            "marker": {
             "colorbar": {
              "outlinewidth": 0,
              "ticks": ""
             }
            },
            "type": "scatterternary"
           }
          ],
          "surface": [
           {
            "colorbar": {
             "outlinewidth": 0,
             "ticks": ""
            },
            "colorscale": [
             [
              0,
              "#0d0887"
             ],
             [
              0.1111111111111111,
              "#46039f"
             ],
             [
              0.2222222222222222,
              "#7201a8"
             ],
             [
              0.3333333333333333,
              "#9c179e"
             ],
             [
              0.4444444444444444,
              "#bd3786"
             ],
             [
              0.5555555555555556,
              "#d8576b"
             ],
             [
              0.6666666666666666,
              "#ed7953"
             ],
             [
              0.7777777777777778,
              "#fb9f3a"
             ],
             [
              0.8888888888888888,
              "#fdca26"
             ],
             [
              1,
              "#f0f921"
             ]
            ],
            "type": "surface"
           }
          ],
          "table": [
           {
            "cells": {
             "fill": {
              "color": "#EBF0F8"
             },
             "line": {
              "color": "white"
             }
            },
            "header": {
             "fill": {
              "color": "#C8D4E3"
             },
             "line": {
              "color": "white"
             }
            },
            "type": "table"
           }
          ]
         },
         "layout": {
          "annotationdefaults": {
           "arrowcolor": "#2a3f5f",
           "arrowhead": 0,
           "arrowwidth": 1
          },
          "coloraxis": {
           "colorbar": {
            "outlinewidth": 0,
            "ticks": ""
           }
          },
          "colorscale": {
           "diverging": [
            [
             0,
             "#8e0152"
            ],
            [
             0.1,
             "#c51b7d"
            ],
            [
             0.2,
             "#de77ae"
            ],
            [
             0.3,
             "#f1b6da"
            ],
            [
             0.4,
             "#fde0ef"
            ],
            [
             0.5,
             "#f7f7f7"
            ],
            [
             0.6,
             "#e6f5d0"
            ],
            [
             0.7,
             "#b8e186"
            ],
            [
             0.8,
             "#7fbc41"
            ],
            [
             0.9,
             "#4d9221"
            ],
            [
             1,
             "#276419"
            ]
           ],
           "sequential": [
            [
             0,
             "#0d0887"
            ],
            [
             0.1111111111111111,
             "#46039f"
            ],
            [
             0.2222222222222222,
             "#7201a8"
            ],
            [
             0.3333333333333333,
             "#9c179e"
            ],
            [
             0.4444444444444444,
             "#bd3786"
            ],
            [
             0.5555555555555556,
             "#d8576b"
            ],
            [
             0.6666666666666666,
             "#ed7953"
            ],
            [
             0.7777777777777778,
             "#fb9f3a"
            ],
            [
             0.8888888888888888,
             "#fdca26"
            ],
            [
             1,
             "#f0f921"
            ]
           ],
           "sequentialminus": [
            [
             0,
             "#0d0887"
            ],
            [
             0.1111111111111111,
             "#46039f"
            ],
            [
             0.2222222222222222,
             "#7201a8"
            ],
            [
             0.3333333333333333,
             "#9c179e"
            ],
            [
             0.4444444444444444,
             "#bd3786"
            ],
            [
             0.5555555555555556,
             "#d8576b"
            ],
            [
             0.6666666666666666,
             "#ed7953"
            ],
            [
             0.7777777777777778,
             "#fb9f3a"
            ],
            [
             0.8888888888888888,
             "#fdca26"
            ],
            [
             1,
             "#f0f921"
            ]
           ]
          },
          "colorway": [
           "#636efa",
           "#EF553B",
           "#00cc96",
           "#ab63fa",
           "#FFA15A",
           "#19d3f3",
           "#FF6692",
           "#B6E880",
           "#FF97FF",
           "#FECB52"
          ],
          "font": {
           "color": "#2a3f5f"
          },
          "geo": {
           "bgcolor": "white",
           "lakecolor": "white",
           "landcolor": "#E5ECF6",
           "showlakes": true,
           "showland": true,
           "subunitcolor": "white"
          },
          "hoverlabel": {
           "align": "left"
          },
          "hovermode": "closest",
          "mapbox": {
           "style": "light"
          },
          "paper_bgcolor": "white",
          "plot_bgcolor": "#E5ECF6",
          "polar": {
           "angularaxis": {
            "gridcolor": "white",
            "linecolor": "white",
            "ticks": ""
           },
           "bgcolor": "#E5ECF6",
           "radialaxis": {
            "gridcolor": "white",
            "linecolor": "white",
            "ticks": ""
           }
          },
          "scene": {
           "xaxis": {
            "backgroundcolor": "#E5ECF6",
            "gridcolor": "white",
            "gridwidth": 2,
            "linecolor": "white",
            "showbackground": true,
            "ticks": "",
            "zerolinecolor": "white"
           },
           "yaxis": {
            "backgroundcolor": "#E5ECF6",
            "gridcolor": "white",
            "gridwidth": 2,
            "linecolor": "white",
            "showbackground": true,
            "ticks": "",
            "zerolinecolor": "white"
           },
           "zaxis": {
            "backgroundcolor": "#E5ECF6",
            "gridcolor": "white",
            "gridwidth": 2,
            "linecolor": "white",
            "showbackground": true,
            "ticks": "",
            "zerolinecolor": "white"
           }
          },
          "shapedefaults": {
           "line": {
            "color": "#2a3f5f"
           }
          },
          "ternary": {
           "aaxis": {
            "gridcolor": "white",
            "linecolor": "white",
            "ticks": ""
           },
           "baxis": {
            "gridcolor": "white",
            "linecolor": "white",
            "ticks": ""
           },
           "bgcolor": "#E5ECF6",
           "caxis": {
            "gridcolor": "white",
            "linecolor": "white",
            "ticks": ""
           }
          },
          "title": {
           "x": 0.05
          },
          "xaxis": {
           "automargin": true,
           "gridcolor": "white",
           "linecolor": "white",
           "ticks": "",
           "title": {
            "standoff": 15
           },
           "zerolinecolor": "white",
           "zerolinewidth": 2
          },
          "yaxis": {
           "automargin": true,
           "gridcolor": "white",
           "linecolor": "white",
           "ticks": "",
           "title": {
            "standoff": 15
           },
           "zerolinecolor": "white",
           "zerolinewidth": 2
          }
         }
        },
        "title": {
         "text": "results_statevector_parity"
        },
        "xaxis": {
         "anchor": "y",
         "domain": [
          0,
          1
         ],
         "title": {
          "text": "distance"
         }
        },
        "yaxis": {
         "anchor": "x",
         "domain": [
          0,
          1
         ],
         "title": {
          "text": "value"
         }
        }
       }
      },
      "text/html": [
       "<div>\n",
       "        \n",
       "        \n",
       "            <div id=\"a8df4014-8259-43b0-87f7-739ca021d836\" class=\"plotly-graph-div\" style=\"height:525px; width:100%;\"></div>\n",
       "            <script type=\"text/javascript\">\n",
       "                require([\"plotly\"], function(Plotly) {\n",
       "                    window.PLOTLYENV=window.PLOTLYENV || {};\n",
       "                    \n",
       "                if (document.getElementById(\"a8df4014-8259-43b0-87f7-739ca021d836\")) {\n",
       "                    Plotly.newPlot(\n",
       "                        'a8df4014-8259-43b0-87f7-739ca021d836',\n",
       "                        [{\"hovertemplate\": \"opt=COBYLA<br>distance=%{x}<br>value=%{y}<extra></extra>\", \"legendgroup\": \"COBYLA\", \"line\": {\"color\": \"#636efa\", \"dash\": \"solid\"}, \"mode\": \"lines\", \"name\": \"COBYLA\", \"orientation\": \"v\", \"showlegend\": true, \"type\": \"scatter\", \"x\": [0.5, 0.6, 0.7, 0.7999999999999999, 0.8999999999999999, 0.9999999999999999, 1.0999999999999999, 1.1999999999999997, 1.2999999999999998, 1.4, 1.4999999999999998, 1.5999999999999996, 1.6999999999999997, 1.7999999999999998, 1.8999999999999997, 1.9999999999999996, 2.0999999999999996, 2.1999999999999997, 2.3, 2.3999999999999995, 2.4999999999999996, 2.5999999999999996, 2.6999999999999993, 2.7999999999999994, 2.8999999999999995, 2.9999999999999996, 3.0999999999999996, 3.1999999999999993, 3.2999999999999994, 3.3999999999999995, 3.499999999999999, 3.599999999999999, 3.6999999999999993, 3.7999999999999994, 3.8999999999999995], \"xaxis\": \"x\", \"y\": [-7.028410086316052, -7.299541040621842, -7.485944868881052, -7.6157701587397595, -7.705753337685797, -7.767362132076944, -7.8087431720264995, -7.83561582026481, -7.8519538509489095, -7.860538650525184, -7.863357617988388, -7.861864761733097, -7.857144953732112, -7.850018696514085, -7.84111203275506, -7.830905577679763, -7.819770254593198, -7.807994362880697, -7.795804477746851, -7.783381625010671, -7.770873664273987, -7.7584043949002695, -7.74607970409445, -7.7339913365482795, -7.722218782719512, -7.710829897176212, -7.699880929785721, -7.689416361671867, -7.679468982704144, -7.670060346890737, -7.6612015991794, -7.652894637800968, -7.645133465887593, -7.637905599080495, -7.6311934580081004], \"yaxis\": \"y\"}, {\"hovertemplate\": \"opt=L_BFGS_B<br>distance=%{x}<br>value=%{y}<extra></extra>\", \"legendgroup\": \"L_BFGS_B\", \"line\": {\"color\": \"#EF553B\", \"dash\": \"solid\"}, \"mode\": \"lines\", \"name\": \"L_BFGS_B\", \"orientation\": \"v\", \"showlegend\": true, \"type\": \"scatter\", \"x\": [0.5, 0.6, 0.7, 0.7999999999999999, 0.8999999999999999, 0.9999999999999999, 1.0999999999999999, 1.1999999999999997, 1.2999999999999998, 1.4, 1.4999999999999998, 1.5999999999999996, 1.6999999999999997, 1.7999999999999998, 1.8999999999999997, 1.9999999999999996, 2.0999999999999996, 2.1999999999999997, 2.3, 2.3999999999999995, 2.4999999999999996, 2.5999999999999996, 2.6999999999999993, 2.7999999999999994, 2.8999999999999995, 2.9999999999999996, 3.0999999999999996, 3.1999999999999993, 3.2999999999999994, 3.3999999999999995, 3.499999999999999, 3.599999999999999, 3.6999999999999993, 3.7999999999999994, 3.8999999999999995], \"xaxis\": \"x\", \"y\": [-7.028410094541934, -7.299541051342241, -7.485944870547277, -7.615770161232095, -7.705753340136111, -7.767362135748561, -7.808743176493409, -7.835615825556918, -7.85195385795623, -7.860538661020696, -7.863357621535119, -7.861864769808643, -7.8571449602038275, -7.850018697166801, -7.841112040771403, -7.83090558463708, -7.819770257777717, -7.807994369272975, -7.795804483817629, -7.783381627155395, -7.770873669221905, -7.758404399049614, -7.746079707360984, -7.733991340166796, -7.722218783149359, -7.710829900217222, -7.699880932787503, -7.689416363299997, -7.679468985510044, -7.670060349511333, -7.66120160151523, -7.65289464026635, -7.645133466813094, -7.637905601068266, -7.631193460707109], \"yaxis\": \"y\"}, {\"hovertemplate\": \"opt=SLSQP<br>distance=%{x}<br>value=%{y}<extra></extra>\", \"legendgroup\": \"SLSQP\", \"line\": {\"color\": \"#00cc96\", \"dash\": \"solid\"}, \"mode\": \"lines\", \"name\": \"SLSQP\", \"orientation\": \"v\", \"showlegend\": true, \"type\": \"scatter\", \"x\": [0.5, 0.6, 0.7, 0.7999999999999999, 0.8999999999999999, 0.9999999999999999, 1.0999999999999999, 1.1999999999999997, 1.2999999999999998, 1.4, 1.4999999999999998, 1.5999999999999996, 1.6999999999999997, 1.7999999999999998, 1.8999999999999997, 1.9999999999999996, 2.0999999999999996, 2.1999999999999997, 2.3, 2.3999999999999995, 2.4999999999999996, 2.5999999999999996, 2.6999999999999993, 2.7999999999999994, 2.8999999999999995, 2.9999999999999996, 3.0999999999999996, 3.1999999999999993, 3.2999999999999994, 3.3999999999999995, 3.499999999999999, 3.599999999999999, 3.6999999999999993, 3.7999999999999994, 3.8999999999999995], \"xaxis\": \"x\", \"y\": [-7.028410094541932, -7.299541051342235, -7.485944870547275, -7.615770161232093, -7.705753340136113, -7.7673621357485665, -7.808743176493419, -7.835615825556916, -7.851953857956239, -7.86053866102069, -7.863357621535112, -7.861864769808644, -7.857144960203829, -7.850018697166806, -7.8411120407713994, -7.830905584637079, -7.819770257777719, -7.807994369272972, -7.795804483817637, -7.783381627155389, -7.770873669221901, -7.758404399049612, -7.74607970736098, -7.7339913401667975, -7.722218783149359, -7.710829900217217, -7.699880932787497, -7.689416363299999, -7.679468985510046, -7.670060349511327, -7.661201601515226, -7.6528946402663465, -7.645133466813093, -7.637905601068255, -7.63119346070683], \"yaxis\": \"y\"}, {\"hovertemplate\": \"opt=SPSA<br>distance=%{x}<br>value=%{y}<extra></extra>\", \"legendgroup\": \"SPSA\", \"line\": {\"color\": \"#ab63fa\", \"dash\": \"solid\"}, \"mode\": \"lines\", \"name\": \"SPSA\", \"orientation\": \"v\", \"showlegend\": true, \"type\": \"scatter\", \"x\": [0.5, 0.6, 0.7, 0.7999999999999999, 0.8999999999999999, 0.9999999999999999, 1.0999999999999999, 1.1999999999999997, 1.2999999999999998, 1.4, 1.4999999999999998, 1.5999999999999996, 1.6999999999999997, 1.7999999999999998, 1.8999999999999997, 1.9999999999999996, 2.0999999999999996, 2.1999999999999997, 2.3, 2.3999999999999995, 2.4999999999999996, 2.5999999999999996, 2.6999999999999993, 2.7999999999999994, 2.8999999999999995, 2.9999999999999996, 3.0999999999999996, 3.1999999999999993, 3.2999999999999994, 3.3999999999999995, 3.499999999999999, 3.599999999999999, 3.6999999999999993, 3.7999999999999994, 3.8999999999999995], \"xaxis\": \"x\", \"y\": [-6.902668229994032, -7.179270303576175, -7.475412652917227, -7.615769887967395, -7.155790728289947, -7.767362135600428, -7.786621275228182, -7.738203531952459, -7.470869230650389, -7.860538350596549, -7.842993651270651, -7.396771143969626, -7.724415601780848, -7.7989565681092, -7.579927531522213, -7.670225344575366, -7.706466814009012, -7.807994322091167, -7.560927744717632, -7.646338410427722, -7.654157889451497, -7.7451734348846974, -7.563638064032804, -7.7293219642659805, -7.634470122519946, -7.6027920439545085, -7.5718705024893564, -7.528441497375768, -7.5846050217151255, -7.667469889329229, -7.641452528343309, -7.621063804587137, -7.545370018024149, -7.595472095941195, -7.582002722284769], \"yaxis\": \"y\"}],\n",
       "                        {\"legend\": {\"title\": {\"text\": \"opt\"}, \"tracegroupgap\": 0}, \"template\": {\"data\": {\"bar\": [{\"error_x\": {\"color\": \"#2a3f5f\"}, \"error_y\": {\"color\": \"#2a3f5f\"}, \"marker\": {\"line\": {\"color\": \"#E5ECF6\", \"width\": 0.5}}, \"type\": \"bar\"}], \"barpolar\": [{\"marker\": {\"line\": {\"color\": \"#E5ECF6\", \"width\": 0.5}}, \"type\": \"barpolar\"}], \"carpet\": [{\"aaxis\": {\"endlinecolor\": \"#2a3f5f\", \"gridcolor\": \"white\", \"linecolor\": \"white\", \"minorgridcolor\": \"white\", \"startlinecolor\": \"#2a3f5f\"}, \"baxis\": {\"endlinecolor\": \"#2a3f5f\", \"gridcolor\": \"white\", \"linecolor\": \"white\", \"minorgridcolor\": \"white\", \"startlinecolor\": \"#2a3f5f\"}, \"type\": \"carpet\"}], \"choropleth\": [{\"colorbar\": {\"outlinewidth\": 0, \"ticks\": \"\"}, \"type\": \"choropleth\"}], \"contour\": [{\"colorbar\": {\"outlinewidth\": 0, \"ticks\": \"\"}, \"colorscale\": [[0.0, \"#0d0887\"], [0.1111111111111111, \"#46039f\"], [0.2222222222222222, \"#7201a8\"], [0.3333333333333333, \"#9c179e\"], [0.4444444444444444, \"#bd3786\"], [0.5555555555555556, \"#d8576b\"], [0.6666666666666666, \"#ed7953\"], [0.7777777777777778, \"#fb9f3a\"], [0.8888888888888888, \"#fdca26\"], [1.0, \"#f0f921\"]], \"type\": \"contour\"}], \"contourcarpet\": [{\"colorbar\": {\"outlinewidth\": 0, \"ticks\": \"\"}, \"type\": \"contourcarpet\"}], \"heatmap\": [{\"colorbar\": {\"outlinewidth\": 0, \"ticks\": \"\"}, \"colorscale\": [[0.0, \"#0d0887\"], [0.1111111111111111, \"#46039f\"], [0.2222222222222222, \"#7201a8\"], [0.3333333333333333, \"#9c179e\"], [0.4444444444444444, \"#bd3786\"], [0.5555555555555556, \"#d8576b\"], [0.6666666666666666, \"#ed7953\"], [0.7777777777777778, \"#fb9f3a\"], [0.8888888888888888, \"#fdca26\"], [1.0, \"#f0f921\"]], \"type\": \"heatmap\"}], \"heatmapgl\": [{\"colorbar\": {\"outlinewidth\": 0, \"ticks\": \"\"}, \"colorscale\": [[0.0, \"#0d0887\"], [0.1111111111111111, \"#46039f\"], [0.2222222222222222, \"#7201a8\"], [0.3333333333333333, \"#9c179e\"], [0.4444444444444444, \"#bd3786\"], [0.5555555555555556, \"#d8576b\"], [0.6666666666666666, \"#ed7953\"], [0.7777777777777778, \"#fb9f3a\"], [0.8888888888888888, \"#fdca26\"], [1.0, \"#f0f921\"]], \"type\": \"heatmapgl\"}], \"histogram\": [{\"marker\": {\"colorbar\": {\"outlinewidth\": 0, \"ticks\": \"\"}}, \"type\": \"histogram\"}], \"histogram2d\": [{\"colorbar\": {\"outlinewidth\": 0, \"ticks\": \"\"}, \"colorscale\": [[0.0, \"#0d0887\"], [0.1111111111111111, \"#46039f\"], [0.2222222222222222, \"#7201a8\"], [0.3333333333333333, \"#9c179e\"], [0.4444444444444444, \"#bd3786\"], [0.5555555555555556, \"#d8576b\"], [0.6666666666666666, \"#ed7953\"], [0.7777777777777778, \"#fb9f3a\"], [0.8888888888888888, \"#fdca26\"], [1.0, \"#f0f921\"]], \"type\": \"histogram2d\"}], \"histogram2dcontour\": [{\"colorbar\": {\"outlinewidth\": 0, \"ticks\": \"\"}, \"colorscale\": [[0.0, \"#0d0887\"], [0.1111111111111111, \"#46039f\"], [0.2222222222222222, \"#7201a8\"], [0.3333333333333333, \"#9c179e\"], [0.4444444444444444, \"#bd3786\"], [0.5555555555555556, \"#d8576b\"], [0.6666666666666666, \"#ed7953\"], [0.7777777777777778, \"#fb9f3a\"], [0.8888888888888888, \"#fdca26\"], [1.0, \"#f0f921\"]], \"type\": \"histogram2dcontour\"}], \"mesh3d\": [{\"colorbar\": {\"outlinewidth\": 0, \"ticks\": \"\"}, \"type\": \"mesh3d\"}], \"parcoords\": [{\"line\": {\"colorbar\": {\"outlinewidth\": 0, \"ticks\": \"\"}}, \"type\": \"parcoords\"}], \"pie\": [{\"automargin\": true, \"type\": \"pie\"}], \"scatter\": [{\"marker\": {\"colorbar\": {\"outlinewidth\": 0, \"ticks\": \"\"}}, \"type\": \"scatter\"}], \"scatter3d\": [{\"line\": {\"colorbar\": {\"outlinewidth\": 0, \"ticks\": \"\"}}, \"marker\": {\"colorbar\": {\"outlinewidth\": 0, \"ticks\": \"\"}}, \"type\": \"scatter3d\"}], \"scattercarpet\": [{\"marker\": {\"colorbar\": {\"outlinewidth\": 0, \"ticks\": \"\"}}, \"type\": \"scattercarpet\"}], \"scattergeo\": [{\"marker\": {\"colorbar\": {\"outlinewidth\": 0, \"ticks\": \"\"}}, \"type\": \"scattergeo\"}], \"scattergl\": [{\"marker\": {\"colorbar\": {\"outlinewidth\": 0, \"ticks\": \"\"}}, \"type\": \"scattergl\"}], \"scattermapbox\": [{\"marker\": {\"colorbar\": {\"outlinewidth\": 0, \"ticks\": \"\"}}, \"type\": \"scattermapbox\"}], \"scatterpolar\": [{\"marker\": {\"colorbar\": {\"outlinewidth\": 0, \"ticks\": \"\"}}, \"type\": \"scatterpolar\"}], \"scatterpolargl\": [{\"marker\": {\"colorbar\": {\"outlinewidth\": 0, \"ticks\": \"\"}}, \"type\": \"scatterpolargl\"}], \"scatterternary\": [{\"marker\": {\"colorbar\": {\"outlinewidth\": 0, \"ticks\": \"\"}}, \"type\": \"scatterternary\"}], \"surface\": [{\"colorbar\": {\"outlinewidth\": 0, \"ticks\": \"\"}, \"colorscale\": [[0.0, \"#0d0887\"], [0.1111111111111111, \"#46039f\"], [0.2222222222222222, \"#7201a8\"], [0.3333333333333333, \"#9c179e\"], [0.4444444444444444, \"#bd3786\"], [0.5555555555555556, \"#d8576b\"], [0.6666666666666666, \"#ed7953\"], [0.7777777777777778, \"#fb9f3a\"], [0.8888888888888888, \"#fdca26\"], [1.0, \"#f0f921\"]], \"type\": \"surface\"}], \"table\": [{\"cells\": {\"fill\": {\"color\": \"#EBF0F8\"}, \"line\": {\"color\": \"white\"}}, \"header\": {\"fill\": {\"color\": \"#C8D4E3\"}, \"line\": {\"color\": \"white\"}}, \"type\": \"table\"}]}, \"layout\": {\"annotationdefaults\": {\"arrowcolor\": \"#2a3f5f\", \"arrowhead\": 0, \"arrowwidth\": 1}, \"coloraxis\": {\"colorbar\": {\"outlinewidth\": 0, \"ticks\": \"\"}}, \"colorscale\": {\"diverging\": [[0, \"#8e0152\"], [0.1, \"#c51b7d\"], [0.2, \"#de77ae\"], [0.3, \"#f1b6da\"], [0.4, \"#fde0ef\"], [0.5, \"#f7f7f7\"], [0.6, \"#e6f5d0\"], [0.7, \"#b8e186\"], [0.8, \"#7fbc41\"], [0.9, \"#4d9221\"], [1, \"#276419\"]], \"sequential\": [[0.0, \"#0d0887\"], [0.1111111111111111, \"#46039f\"], [0.2222222222222222, \"#7201a8\"], [0.3333333333333333, \"#9c179e\"], [0.4444444444444444, \"#bd3786\"], [0.5555555555555556, \"#d8576b\"], [0.6666666666666666, \"#ed7953\"], [0.7777777777777778, \"#fb9f3a\"], [0.8888888888888888, \"#fdca26\"], [1.0, \"#f0f921\"]], \"sequentialminus\": [[0.0, \"#0d0887\"], [0.1111111111111111, \"#46039f\"], [0.2222222222222222, \"#7201a8\"], [0.3333333333333333, \"#9c179e\"], [0.4444444444444444, \"#bd3786\"], [0.5555555555555556, \"#d8576b\"], [0.6666666666666666, \"#ed7953\"], [0.7777777777777778, \"#fb9f3a\"], [0.8888888888888888, \"#fdca26\"], [1.0, \"#f0f921\"]]}, \"colorway\": [\"#636efa\", \"#EF553B\", \"#00cc96\", \"#ab63fa\", \"#FFA15A\", \"#19d3f3\", \"#FF6692\", \"#B6E880\", \"#FF97FF\", \"#FECB52\"], \"font\": {\"color\": \"#2a3f5f\"}, \"geo\": {\"bgcolor\": \"white\", \"lakecolor\": \"white\", \"landcolor\": \"#E5ECF6\", \"showlakes\": true, \"showland\": true, \"subunitcolor\": \"white\"}, \"hoverlabel\": {\"align\": \"left\"}, \"hovermode\": \"closest\", \"mapbox\": {\"style\": \"light\"}, \"paper_bgcolor\": \"white\", \"plot_bgcolor\": \"#E5ECF6\", \"polar\": {\"angularaxis\": {\"gridcolor\": \"white\", \"linecolor\": \"white\", \"ticks\": \"\"}, \"bgcolor\": \"#E5ECF6\", \"radialaxis\": {\"gridcolor\": \"white\", \"linecolor\": \"white\", \"ticks\": \"\"}}, \"scene\": {\"xaxis\": {\"backgroundcolor\": \"#E5ECF6\", \"gridcolor\": \"white\", \"gridwidth\": 2, \"linecolor\": \"white\", \"showbackground\": true, \"ticks\": \"\", \"zerolinecolor\": \"white\"}, \"yaxis\": {\"backgroundcolor\": \"#E5ECF6\", \"gridcolor\": \"white\", \"gridwidth\": 2, \"linecolor\": \"white\", \"showbackground\": true, \"ticks\": \"\", \"zerolinecolor\": \"white\"}, \"zaxis\": {\"backgroundcolor\": \"#E5ECF6\", \"gridcolor\": \"white\", \"gridwidth\": 2, \"linecolor\": \"white\", \"showbackground\": true, \"ticks\": \"\", \"zerolinecolor\": \"white\"}}, \"shapedefaults\": {\"line\": {\"color\": \"#2a3f5f\"}}, \"ternary\": {\"aaxis\": {\"gridcolor\": \"white\", \"linecolor\": \"white\", \"ticks\": \"\"}, \"baxis\": {\"gridcolor\": \"white\", \"linecolor\": \"white\", \"ticks\": \"\"}, \"bgcolor\": \"#E5ECF6\", \"caxis\": {\"gridcolor\": \"white\", \"linecolor\": \"white\", \"ticks\": \"\"}}, \"title\": {\"x\": 0.05}, \"xaxis\": {\"automargin\": true, \"gridcolor\": \"white\", \"linecolor\": \"white\", \"ticks\": \"\", \"title\": {\"standoff\": 15}, \"zerolinecolor\": \"white\", \"zerolinewidth\": 2}, \"yaxis\": {\"automargin\": true, \"gridcolor\": \"white\", \"linecolor\": \"white\", \"ticks\": \"\", \"title\": {\"standoff\": 15}, \"zerolinecolor\": \"white\", \"zerolinewidth\": 2}}}, \"title\": {\"text\": \"results_statevector_parity\"}, \"xaxis\": {\"anchor\": \"y\", \"domain\": [0.0, 1.0], \"title\": {\"text\": \"distance\"}}, \"yaxis\": {\"anchor\": \"x\", \"domain\": [0.0, 1.0], \"title\": {\"text\": \"value\"}}},\n",
       "                        {\"responsive\": true}\n",
       "                    ).then(function(){\n",
       "                            \n",
       "var gd = document.getElementById('a8df4014-8259-43b0-87f7-739ca021d836');\n",
       "var x = new MutationObserver(function (mutations, observer) {{\n",
       "        var display = window.getComputedStyle(gd).display;\n",
       "        if (!display || display === 'none') {{\n",
       "            console.log([gd, 'removed!']);\n",
       "            Plotly.purge(gd);\n",
       "            observer.disconnect();\n",
       "        }}\n",
       "}});\n",
       "\n",
       "// Listen for the removal of the full notebook cells\n",
       "var notebookContainer = gd.closest('#notebook-container');\n",
       "if (notebookContainer) {{\n",
       "    x.observe(notebookContainer, {childList: true});\n",
       "}}\n",
       "\n",
       "// Listen for the clearing of the current output cell\n",
       "var outputEl = gd.closest('.output');\n",
       "if (outputEl) {{\n",
       "    x.observe(outputEl, {childList: true});\n",
       "}}\n",
       "\n",
       "                        })\n",
       "                };\n",
       "                });\n",
       "            </script>\n",
       "        </div>"
      ]
     },
     "metadata": {},
     "output_type": "display_data"
    }
   ],
   "source": [
    "pd.options.plotting.backend = \"plotly\"\n",
    "\n",
    "for f in filenames:\n",
    "    file = path+f\n",
    "    df = pd.read_pickle(file)\n",
    "    fig = df.groupby(['distance', 'opt']).sum()['vqe_E'].unstack().plot(title=f)\n",
    "    fig.show()"
   ]
  },
  {
   "cell_type": "code",
   "execution_count": null,
   "metadata": {},
   "outputs": [],
   "source": []
  }
 ],
 "metadata": {
  "kernelspec": {
   "display_name": "Python 3",
   "language": "python",
   "name": "python3"
  },
  "language_info": {
   "codemirror_mode": {
    "name": "ipython",
    "version": 3
   },
   "file_extension": ".py",
   "mimetype": "text/x-python",
   "name": "python",
   "nbconvert_exporter": "python",
   "pygments_lexer": "ipython3",
   "version": "3.8.2"
  }
 },
 "nbformat": 4,
 "nbformat_minor": 4
}
